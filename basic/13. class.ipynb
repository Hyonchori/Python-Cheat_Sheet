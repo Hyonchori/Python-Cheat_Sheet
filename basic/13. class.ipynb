{
 "cells": [
  {
   "cell_type": "markdown",
   "metadata": {},
   "source": [
    "# 1. 객체지향 프로그래밍\n",
    "**Object-Oriented Programming**\n",
    "1. 객체 형성(상태와 행위로 구성)\n",
    "2. 객체 조립\n",
    "3. 프로그램 형성"
   ]
  },
  {
   "cell_type": "markdown",
   "metadata": {},
   "source": [
    "## 1.1 객체란?\n",
    "- 변수와 메서드가 서로 연관된 것들끼리 묶어 만든 것\n",
    "- **변수**: 객체의 특성을 나타내는 값\n",
    "- **메서드**: 객체의 변수를 다루는 함수"
   ]
  },
  {
   "cell_type": "markdown",
   "metadata": {},
   "source": [
    "## 1.2 객체지향의 구성 요소\n",
    ">**클래스(class)**\n",
    ">- 같은 문제 도메인에 속하는 **속성(attribute)** 과 **행위(behavior)** 를 정의\n",
    ">- 객체지향 프로그램의 기본적인 사용자 정의 데이터 타입\n",
    "\n",
    ">**객체(object)**\n",
    ">- 메모리에 로딩된 클래스를 통해 클래스를 템플릿으로 하여 메모리 상에 생성된 정보: **인스턴스(instance)**\n",
    ">- 자신 고유의 속성을 가지며 클래스에서 정의한 행위 수행\n",
    ">- 객체의 행위는 클래스에서 정의된 행위에 대한 정의를 공유함으로써 메모리를 효율적으로 사용\n",
    "\n",
    ">**메서드(method)**\n",
    ">- **메세지(message)** 라고도 부름\n",
    ">- 클래스로부터 생성된 객체 사용 시 객체에 명령을 내리는 행위\n",
    ">- **한 객체의 속성을 조작할 목적**으로 사용\n",
    ">- 객체 간의 통신은 메세지 전달을 통해 이루어짐"
   ]
  },
  {
   "cell_type": "markdown",
   "metadata": {},
   "source": [
    "## 1.3 객체지향 프로그램의 특징\n",
    ">**추상화**\n",
    ">- 객체에서 **공통된 속성과 행위**를 추출하는 것\n",
    ">- 대상을 프로그램으로 구현할 때 체계적으로 하기 위한 과정\n",
    ">- 데이터 타입의 표현과 연산을 캡슐화\n",
    ">- 접근 제어를 통해 데이터의 정보를 은닉할 수 있음\n",
    ">- 파이썬의 추상 데이터 타입이 바로 **클래스**\n",
    ">- 추상 데이터 타입의 인스턴스가 바로 **객체**\n",
    ">- 추상 데이터 타입에서 정의된 연산이 바로 **메서드**\n",
    "\n",
    ">**상속**\n",
    ">- 새로운 클래스가 기존 클래스의 데이터와 연산을 이용할 수 있게 하는 기능\n",
    ">- 기존 클래스를 **부모 클래스, 기반 클래스, 상위 클래스, 슈퍼 클래스** 라고 함\n",
    ">- 새로운 클래스를 **자식 클래스, 파생 클래스, 하위 클래스, 서브 클래스** 라고 함\n",
    ">- 하위 클래스를 이용해 프로그램의 요구에 맞추어 클래스 수정 가능\n",
    ">- 클래스 간의 종속 관계를 형성하여 객체 조직화\n",
    ">- 재사용으로 코드가 줄어듦\n",
    ">- 범용적인 사용 가능\n",
    "\n",
    ">**다형성**\n",
    ">- 다양한 형태로 나타날 수 있는 특징\n",
    ">- 상위 클래스의 행위를 하위 클래스에서 재정의 가능\n",
    ">- **오버라이딩** : 같은 이름의 메서드가 여러 클래스에서 다른 기능을 하는 것\n",
    ">- **오버로딩** : 같은 이름의 메서드가 인자의 개수나 자료형에 따라서 다른 기능을 하는 것"
   ]
  },
  {
   "cell_type": "markdown",
   "metadata": {},
   "source": [
    "---\n",
    "# 2. 클래스\n",
    "- 객체 생성을 위한 청사진 또는 템플릿\n",
    "1. 클래스 설계\n",
    "2. 클래스 제작\n",
    "3. 객체 생성"
   ]
  },
  {
   "cell_type": "code",
   "execution_count": 1,
   "metadata": {},
   "outputs": [
    {
     "name": "stdout",
     "output_type": "stream",
     "text": [
      "True\n"
     ]
    }
   ],
   "source": [
    "class Person:\n",
    "    pass\n",
    "\n",
    "member = Person()\n",
    "print(isinstance(member, Person))"
   ]
  },
  {
   "cell_type": "markdown",
   "metadata": {},
   "source": [
    "## 2.1 생성자, 소멸자\n",
    ">**생성자**\n",
    ">- 객체가 생성될 때 호출되는 생성자 메서드\n",
    ">- **init** 메서드\n",
    ">- 매개변수 목록을 받을 수 있음\n",
    "\n",
    ">**소멸자**\n",
    ">- 객체가 소멸되기 전에 호출되는 소멸자 메서드\n",
    ">- **del** 메서드\n",
    ">- self를 제외한 매개변수는 사용하지 않음"
   ]
  },
  {
   "cell_type": "code",
   "execution_count": 4,
   "metadata": {},
   "outputs": [
    {
     "name": "stdout",
     "output_type": "stream",
     "text": [
      "객체 'python'가 생성되었습니다.\n",
      "['__class__', '__del__', '__delattr__', '__dict__', '__dir__', '__doc__', '__eq__', '__format__', '__ge__', '__getattribute__', '__gt__', '__hash__', '__init__', '__init_subclass__', '__le__', '__lt__', '__module__', '__ne__', '__new__', '__reduce__', '__reduce_ex__', '__repr__', '__setattr__', '__sizeof__', '__str__', '__subclasshook__', '__weakref__', 'age', 'name']\n",
      "객체 'python'가 제거되었습니다.\n"
     ]
    }
   ],
   "source": [
    "class Person:\n",
    "    def __init__(self, name, age):\n",
    "        self.name = name\n",
    "        self.age = age\n",
    "        print(\"객체 '{}'가 생성되었습니다.\".format(self.name))\n",
    "    \n",
    "    def __del__(self):\n",
    "        print(\"객체 '{}'가 제거되었습니다.\".format(self.name))\n",
    "        \n",
    "member = Person(\"python\", 20)\n",
    "print(dir(member))\n",
    "del member"
   ]
  },
  {
   "cell_type": "markdown",
   "metadata": {},
   "source": [
    "---\n",
    "# 3. 클래스, 인스턴스의 특징"
   ]
  },
  {
   "cell_type": "markdown",
   "metadata": {},
   "source": [
    "## 3.1 인스턴스 메서드\n",
    "- self가 가리키는 객체의 필드 정보에 접근\n",
    "- 특정 목적의 기능을 수행하도록 정의된 메서드"
   ]
  },
  {
   "cell_type": "code",
   "execution_count": 17,
   "metadata": {},
   "outputs": [
    {
     "name": "stdout",
     "output_type": "stream",
     "text": [
      "객체 '홍길동'가 생성되었습니다.\n",
      "객체 '이순신'가 생성되었습니다.\n",
      "객체 '강감찬'가 생성되었습니다.\n",
      "객체 '이순신'가 제거되었습니다.\n",
      "객체 '홍길동'가 제거되었습니다.\n",
      "객체 '강감찬'가 제거되었습니다.\n",
      "홍길동\t20\n",
      "이순신\t45\n",
      "강감찬\t35\n"
     ]
    }
   ],
   "source": [
    "class Person:\n",
    "    def __init__(self, name, age):\n",
    "        self.name = name\n",
    "        self.age = age\n",
    "        print(\"객체 '{}'가 생성되었습니다.\".format(self.name))\n",
    "    \n",
    "    def __del__(self):\n",
    "        print(\"객체 '{}'가 제거되었습니다.\".format(self.name))\n",
    "        \n",
    "    def to_str(self):\n",
    "        return \"{}\\t{}\".format(self.name, self.age)\n",
    "\n",
    "members = [\n",
    "    Person(\"홍길동\", 20),\n",
    "    Person(\"이순신\", 45),\n",
    "    Person(\"강감찬\", 35),\n",
    "]\n",
    "\n",
    "for member in members:\n",
    "    print(member.to_str())"
   ]
  },
  {
   "cell_type": "markdown",
   "metadata": {},
   "source": [
    "## 3.2 인스턴스 변수\n",
    "- 클래스 내에서 **self.변수** 형태를 가지는 변수\n",
    "- 객체마다 가지는 고유의 변수"
   ]
  },
  {
   "cell_type": "markdown",
   "metadata": {},
   "source": [
    "### 3.2.1 접근 제한이 이루어지지 않을 경우\n",
    "- 입력 시 유효성 검사를 할 수 없으므로 잘못된 값이 저장될 수 있음"
   ]
  },
  {
   "cell_type": "code",
   "execution_count": 18,
   "metadata": {},
   "outputs": [],
   "source": [
    "class Person:\n",
    "    def __init__(self, name, age):\n",
    "        self.name = name\n",
    "        self.age = age\n",
    "        print(\"객체 '{}'가 생성되었습니다.\".format(self.name))\n",
    "    \n",
    "    def __del__(self):\n",
    "        print(\"객체 '{}'가 제거되었습니다.\".format(self.name))\n",
    "        \n",
    "    def to_str(self):\n",
    "        return \"{}\\t{}\".format(self.name, self.age)"
   ]
  },
  {
   "cell_type": "markdown",
   "metadata": {},
   "source": [
    "### 3.2.2 인스턴스 변수의 접근 제한 기능\n",
    "- 변수 이름을 **self.__변수** 형태로 선언\n",
    "- 프라이빗 필드를 생성 : **getter, setter** 메서드 사용 가능"
   ]
  },
  {
   "cell_type": "code",
   "execution_count": 21,
   "metadata": {},
   "outputs": [
    {
     "name": "stdout",
     "output_type": "stream",
     "text": [
      "객체 '홍길동'가 생성되었습니다.\n",
      "객체 '이순신'가 생성되었습니다.\n",
      "객체 '강감찬'가 생성되었습니다.\n",
      "객체 '이순신'가 제거되었습니다.\n",
      "객체 '홍길동'가 제거되었습니다.\n"
     ]
    },
    {
     "ename": "TypeError",
     "evalue": "나이는 0 이상의 값만 허용합니다.",
     "output_type": "error",
     "traceback": [
      "\u001b[1;31m---------------------------------------------------------------------------\u001b[0m",
      "\u001b[1;31mTypeError\u001b[0m                                 Traceback (most recent call last)",
      "\u001b[1;32m<ipython-input-21-29599e1efda3>\u001b[0m in \u001b[0;36m<module>\u001b[1;34m\u001b[0m\n\u001b[0;32m     27\u001b[0m     \u001b[0mPerson\u001b[0m\u001b[1;33m(\u001b[0m\u001b[1;34m\"강감찬\"\u001b[0m\u001b[1;33m,\u001b[0m \u001b[1;36m35\u001b[0m\u001b[1;33m)\u001b[0m\u001b[1;33m,\u001b[0m\u001b[1;33m\u001b[0m\u001b[1;33m\u001b[0m\u001b[0m\n\u001b[0;32m     28\u001b[0m ]     \n\u001b[1;32m---> 29\u001b[1;33m \u001b[0mmembers\u001b[0m\u001b[1;33m[\u001b[0m\u001b[1;36m0\u001b[0m\u001b[1;33m]\u001b[0m\u001b[1;33m.\u001b[0m\u001b[0mset_age\u001b[0m\u001b[1;33m(\u001b[0m\u001b[1;33m-\u001b[0m\u001b[1;36m20\u001b[0m\u001b[1;33m)\u001b[0m\u001b[1;33m\u001b[0m\u001b[1;33m\u001b[0m\u001b[0m\n\u001b[0m",
      "\u001b[1;32m<ipython-input-21-29599e1efda3>\u001b[0m in \u001b[0;36mset_age\u001b[1;34m(self, age)\u001b[0m\n\u001b[0;32m     19\u001b[0m     \u001b[1;32mdef\u001b[0m \u001b[0mset_age\u001b[0m\u001b[1;33m(\u001b[0m\u001b[0mself\u001b[0m\u001b[1;33m,\u001b[0m \u001b[0mage\u001b[0m\u001b[1;33m)\u001b[0m\u001b[1;33m:\u001b[0m\u001b[1;33m\u001b[0m\u001b[1;33m\u001b[0m\u001b[0m\n\u001b[0;32m     20\u001b[0m         \u001b[1;32mif\u001b[0m \u001b[0mage\u001b[0m \u001b[1;33m<\u001b[0m \u001b[1;36m0\u001b[0m\u001b[1;33m:\u001b[0m\u001b[1;33m\u001b[0m\u001b[1;33m\u001b[0m\u001b[0m\n\u001b[1;32m---> 21\u001b[1;33m             \u001b[1;32mraise\u001b[0m \u001b[0mTypeError\u001b[0m\u001b[1;33m(\u001b[0m\u001b[1;34m\"나이는 0 이상의 값만 허용합니다.\"\u001b[0m\u001b[1;33m)\u001b[0m\u001b[1;33m\u001b[0m\u001b[1;33m\u001b[0m\u001b[0m\n\u001b[0m\u001b[0;32m     22\u001b[0m         \u001b[0mself\u001b[0m\u001b[1;33m.\u001b[0m\u001b[0m__age\u001b[0m \u001b[1;33m=\u001b[0m \u001b[0mage\u001b[0m\u001b[1;33m\u001b[0m\u001b[1;33m\u001b[0m\u001b[0m\n\u001b[0;32m     23\u001b[0m \u001b[1;33m\u001b[0m\u001b[0m\n",
      "\u001b[1;31mTypeError\u001b[0m: 나이는 0 이상의 값만 허용합니다."
     ]
    }
   ],
   "source": [
    "class Person:\n",
    "    def __init__(self, name, age):\n",
    "        self.__name = name\n",
    "        self.__age = age\n",
    "        print(\"객체 '{}'가 생성되었습니다.\".format(self.__name))\n",
    "    \n",
    "    def __del__(self):\n",
    "        print(\"객체 '{}'가 제거되었습니다.\".format(self.__name))\n",
    "        \n",
    "    def to_str(self):\n",
    "        return \"{}\\t{}\".format(self.__name, self.__age)\n",
    "    \n",
    "    def get_name(self):\n",
    "        return self.__name\n",
    "    \n",
    "    def get_age(self):\n",
    "        return self.__age\n",
    "    \n",
    "    def set_age(self, age):\n",
    "        if age < 0:\n",
    "            raise TypeError(\"나이는 0 이상의 값만 허용합니다.\")\n",
    "        self.__age = age\n",
    "\n",
    "members = [\n",
    "    Person(\"홍길동\", 20),\n",
    "    Person(\"이순신\", 45),\n",
    "    Person(\"강감찬\", 35),\n",
    "]     \n",
    "members[0].set_age(-20)"
   ]
  },
  {
   "cell_type": "markdown",
   "metadata": {},
   "source": [
    "### 3.2.3 데커레이터\n",
    "- 파이썬의 데커레이터 기능을 이용해 getter, setter 기능을 구현할 수 있음"
   ]
  },
  {
   "cell_type": "code",
   "execution_count": 24,
   "metadata": {},
   "outputs": [
    {
     "name": "stdout",
     "output_type": "stream",
     "text": [
      "객체 '홍길동'가 생성되었습니다.\n",
      "객체 '이순신'가 생성되었습니다.\n",
      "객체 '강감찬'가 생성되었습니다.\n",
      "객체 '이순신'가 제거되었습니다.\n",
      "객체 '홍길동'가 제거되었습니다.\n",
      "객체 '강감찬'가 제거되었습니다.\n",
      "홍길동\t22\n",
      "이순신\t45\n",
      "강감찬\t35\n"
     ]
    }
   ],
   "source": [
    "class Person:\n",
    "    def __init__(self, name, age):\n",
    "        self.__name = name\n",
    "        self.__age = age\n",
    "        print(\"객체 '{}'가 생성되었습니다.\".format(self.__name))\n",
    "    \n",
    "    def __del__(self):\n",
    "        print(\"객체 '{}'가 제거되었습니다.\".format(self.__name))\n",
    "        \n",
    "    def to_str(self):\n",
    "        return \"{}\\t{}\".format(self.__name, self.__age)\n",
    "    \n",
    "    @property\n",
    "    def name(self):\n",
    "        return self.__name   # 클래스의 변수처럼 사용 가능. __name 필드값을 반환하는 getter 메서드 역할\n",
    "    \n",
    "    @property\n",
    "    def age(self):\n",
    "        return self.__age   # 클래스의 변수처럼 사용 가능. __age 필드값을 반환하는 getter 메서드 역할\n",
    "    \n",
    "    @age.setter\n",
    "    def age(self, age):    # 변수처럼 사용 가능, __name 필드값을 반환하는 setter 메서드 역할\n",
    "        if age < 0:\n",
    "            raise TypeError(\"나이는 0 이상의 값만 허용합니다.\")\n",
    "        self.__age = age\n",
    "\n",
    "members = [\n",
    "    Person(\"홍길동\", 20),\n",
    "    Person(\"이순신\", 45),\n",
    "    Person(\"강감찬\", 35),\n",
    "]     \n",
    "members[0].age = 22 # age @property 데커레이터를 이용해 변수처럼 값 저장\n",
    "\n",
    "for m in members:\n",
    "    print(m.to_str())"
   ]
  },
  {
   "cell_type": "markdown",
   "metadata": {},
   "source": [
    "## 3.3 클래스 변수\n",
    "- 클래스 내에서 **클래스명.변수** 형식으로 선언된 변수"
   ]
  },
  {
   "cell_type": "markdown",
   "metadata": {},
   "source": [
    "### 3.3.1 클래스 변수를 이용한 count"
   ]
  },
  {
   "cell_type": "code",
   "execution_count": 26,
   "metadata": {},
   "outputs": [
    {
     "name": "stdout",
     "output_type": "stream",
     "text": [
      "객체 '홍길동'가 생성되었습니다.\n",
      "객체 '이순신'가 생성되었습니다.\n",
      "객체 '강감찬'가 생성되었습니다.\n",
      "객체 '강감찬'가 제거되었습니다.\n",
      "객체 '이순신'가 제거되었습니다.\n",
      "객체 '홍길동'가 제거되었습니다.\n",
      "3\n"
     ]
    }
   ],
   "source": [
    "class Person:\n",
    "    count = 0    # 클래스 변수 선언\n",
    "    \n",
    "    def __init__(self, name, age):\n",
    "        self.__name = name\n",
    "        self.__age = age\n",
    "        Person.count += 1\n",
    "        print(\"객체 '{}'가 생성되었습니다.\".format(self.__name))\n",
    "    \n",
    "    def __del__(self):\n",
    "        print(\"객체 '{}'가 제거되었습니다.\".format(self.__name))\n",
    "        \n",
    "    def to_str(self):\n",
    "        return \"{}\\t{}\".format(self.__name, self.__age)\n",
    "    \n",
    "    @property\n",
    "    def name(self):\n",
    "        return self.__name   # 클래스의 변수처럼 사용 가능. __name 필드값을 반환하는 getter 메서드 역할\n",
    "    \n",
    "    @property\n",
    "    def age(self):\n",
    "        return self.__age   # 클래스의 변수처럼 사용 가능. __age 필드값을 반환하는 getter 메서드 역할\n",
    "    \n",
    "    @age.setter\n",
    "    def age(self, age):    # 변수처럼 사용 가능, __name 필드값을 반환하는 setter 메서드 역할\n",
    "        if age < 0:\n",
    "            raise TypeError(\"나이는 0 이상의 값만 허용합니다.\")\n",
    "        self.__age = age\n",
    "        \n",
    "members = [\n",
    "    Person(\"홍길동\", 20),\n",
    "    Person(\"이순신\", 45),\n",
    "    Person(\"강감찬\", 35),\n",
    "]\n",
    "print(Person.count)"
   ]
  },
  {
   "cell_type": "markdown",
   "metadata": {},
   "source": [
    "## 3.4 클래스 메서드\n",
    "- 클래스가 소유한 메서드\n",
    "- **@classmethod** 데커레이터로 선언\n",
    "- self 대신 **cls** 전달 (인스턴스가 아닌 클래스 자신에 대한 참조 전달)\n",
    "- 클래스 메서드 내에서 클래스 변수의 접근은 **cls.변수** 형식으로 참조"
   ]
  },
  {
   "cell_type": "code",
   "execution_count": 27,
   "metadata": {},
   "outputs": [
    {
     "name": "stdout",
     "output_type": "stream",
     "text": [
      "객체 '홍길동'가 생성되었습니다.\n",
      "객체 '이순신'가 생성되었습니다.\n",
      "객체 '강감찬'가 생성되었습니다.\n",
      "객체 '강감찬'가 제거되었습니다.\n",
      "객체 '이순신'가 제거되었습니다.\n",
      "객체 '홍길동'가 제거되었습니다.\n"
     ]
    },
    {
     "data": {
      "text/plain": [
       "'현재 Person 클래스의 인스턴스는 총 3개 입니다.'"
      ]
     },
     "execution_count": 27,
     "metadata": {},
     "output_type": "execute_result"
    }
   ],
   "source": [
    "class Person:\n",
    "    count = 0    # 클래스 변수 선언\n",
    "    \n",
    "    def __init__(self, name, age):\n",
    "        self.__name = name\n",
    "        self.__age = age\n",
    "        Person.count += 1\n",
    "        print(\"객체 '{}'가 생성되었습니다.\".format(self.__name))\n",
    "    \n",
    "    def __del__(self):\n",
    "        print(\"객체 '{}'가 제거되었습니다.\".format(self.__name))\n",
    "        \n",
    "    def to_str(self):\n",
    "        return \"{}\\t{}\".format(self.__name, self.__age)\n",
    "    \n",
    "    @property\n",
    "    def name(self):\n",
    "        return self.__name   # 클래스의 변수처럼 사용 가능. __name 필드값을 반환하는 getter 메서드 역할\n",
    "    \n",
    "    @property\n",
    "    def age(self):\n",
    "        return self.__age   # 클래스의 변수처럼 사용 가능. __age 필드값을 반환하는 getter 메서드 역할\n",
    "    \n",
    "    @age.setter\n",
    "    def age(self, age):    # 변수처럼 사용 가능, __name 필드값을 반환하는 setter 메서드 역할\n",
    "        if age < 0:\n",
    "            raise TypeError(\"나이는 0 이상의 값만 허용합니다.\")\n",
    "        self.__age = age\n",
    "    \n",
    "    @classmethod\n",
    "    def get_info(cls):\n",
    "        return \"현재 Person 클래스의 인스턴스는 총 {}개 입니다.\".format(cls.count)\n",
    "\n",
    "members = [\n",
    "    Person(\"홍길동\", 20),\n",
    "    Person(\"이순신\", 45),\n",
    "    Person(\"강감찬\", 35),\n",
    "]\n",
    "Person.get_info()"
   ]
  },
  {
   "cell_type": "markdown",
   "metadata": {},
   "source": [
    "## 3.5 오버로딩\n",
    "- 같은 이름의 메서드를 클래스마다 다른 기능을 갖게 하는 것"
   ]
  },
  {
   "cell_type": "markdown",
   "metadata": {},
   "source": [
    "### 3.5.1 비교연산자 오버로딩\n",
    "- 비교연산자를 오버로딩 **(>, >=, <, <=, =, !=)**\n",
    "- 본 클래스의 인스턴스 변수와 다른 인스턴스의 변수를 비교하는 함수로 변경\n",
    "- 여기서 다른 인스턴스는 **other**로 참조"
   ]
  },
  {
   "cell_type": "code",
   "execution_count": 29,
   "metadata": {},
   "outputs": [
    {
     "name": "stdout",
     "output_type": "stream",
     "text": [
      "객체 '홍길동'가 생성되었습니다.\n",
      "객체 '이순신'가 생성되었습니다.\n",
      "객체 '강감찬'가 생성되었습니다.\n",
      "객체 '강감찬'가 제거되었습니다.\n",
      "False\n",
      "False\n",
      "True\n",
      "True\n",
      "False\n",
      "True\n"
     ]
    }
   ],
   "source": [
    "class Person:\n",
    "    count = 0    # 클래스 변수 선언\n",
    "    \n",
    "    def __init__(self, name, age):\n",
    "        self.__name = name\n",
    "        self.__age = age\n",
    "        Person.count += 1\n",
    "        print(\"객체 '{}'가 생성되었습니다.\".format(self.__name))\n",
    "    \n",
    "    def __del__(self):\n",
    "        print(\"객체 '{}'가 제거되었습니다.\".format(self.__name))\n",
    "        \n",
    "    def to_str(self):\n",
    "        return \"{}\\t{}\".format(self.__name, self.__age)\n",
    "    \n",
    "    @property\n",
    "    def name(self):\n",
    "        return self.__name   # 클래스의 변수처럼 사용 가능. __name 필드값을 반환하는 getter 메서드 역할\n",
    "    \n",
    "    @property\n",
    "    def age(self):\n",
    "        return self.__age   # 클래스의 변수처럼 사용 가능. __age 필드값을 반환하는 getter 메서드 역할\n",
    "    \n",
    "    @age.setter\n",
    "    def age(self, age):    # 변수처럼 사용 가능, __name 필드값을 반환하는 setter 메서드 역할\n",
    "        if age < 0:\n",
    "            raise TypeError(\"나이는 0 이상의 값만 허용합니다.\")\n",
    "        self.__age = age\n",
    "    \n",
    "    @classmethod\n",
    "    def get_info(cls):\n",
    "        return \"현재 Person 클래스의 인스턴스는 총 {}개 입니다.\".format(cls.count)\n",
    "    \n",
    "    def __gt__(self, other):  # greater than로 비교 연산자 '>' 에 해당\n",
    "        return self.__age > other.__age\n",
    "    \n",
    "    def __ge__(self, other):  # greater and equal로 비교 연산자 '>=' 에 해당\n",
    "        return self.__age >= other.__age\n",
    "    \n",
    "    def __lt__(self, other):  # lower로 비교 연산자 '<' 에 해당\n",
    "        return self.__age < other.__age\n",
    "    \n",
    "    def __le__(self, other):  # lower and equal로 비교 연산자 '<= 에 해당\n",
    "        return self.__age <= other.__age\n",
    "    \n",
    "    def __eq__(self, other):  # equal로 비교 연산자 '==' 에 해당\n",
    "        return self.__age == other.__age\n",
    "    \n",
    "    def __ne__(self, other):  # not equal로 비교 연산자 '!=' 에 해당\n",
    "        return self.__age != other.__age\n",
    "\n",
    "members = [\n",
    "    Person(\"홍길동\", 20),\n",
    "    Person(\"이순신\", 45),\n",
    "    Person(\"강감찬\", 35),\n",
    "]\n",
    "print(members[0] > members[1])\n",
    "print(members[0] >= members[1])\n",
    "print(members[0] < members[1])\n",
    "print(members[0] <= members[1])\n",
    "print(members[0] == members[1])\n",
    "print(members[0] != members[1])"
   ]
  },
  {
   "cell_type": "markdown",
   "metadata": {},
   "source": [
    "### 3.6 --str()-- 메서드\n",
    "- str() 함수에 객체를 전달해 문자열로 변환하는 메서드"
   ]
  },
  {
   "cell_type": "code",
   "execution_count": 30,
   "metadata": {},
   "outputs": [
    {
     "name": "stdout",
     "output_type": "stream",
     "text": [
      "객체 '홍길동'가 생성되었습니다.\n",
      "객체 '이순신'가 생성되었습니다.\n",
      "객체 '강감찬'가 생성되었습니다.\n",
      "객체 '강감찬'가 제거되었습니다.\n",
      "객체 '이순신'가 제거되었습니다.\n",
      "객체 '홍길동'가 제거되었습니다.\n",
      "객체 '강감찬'가 제거되었습니다.\n",
      "홍길동\t20\n",
      "이순신\t45\n",
      "강감찬\t35\n"
     ]
    }
   ],
   "source": [
    "class Person:\n",
    "    count = 0    # 클래스 변수 선언\n",
    "    \n",
    "    def __init__(self, name, age):\n",
    "        self.__name = name\n",
    "        self.__age = age\n",
    "        Person.count += 1\n",
    "        print(\"객체 '{}'가 생성되었습니다.\".format(self.__name))\n",
    "    \n",
    "    def __del__(self):\n",
    "        print(\"객체 '{}'가 제거되었습니다.\".format(self.__name))\n",
    "        \n",
    "    def to_str(self):\n",
    "        return \"{}\\t{}\".format(self.__name, self.__age)\n",
    "    \n",
    "    @property\n",
    "    def name(self):\n",
    "        return self.__name   # 클래스의 변수처럼 사용 가능. __name 필드값을 반환하는 getter 메서드 역할\n",
    "    \n",
    "    @property\n",
    "    def age(self):\n",
    "        return self.__age   # 클래스의 변수처럼 사용 가능. __age 필드값을 반환하는 getter 메서드 역할\n",
    "    \n",
    "    @age.setter\n",
    "    def age(self, age):    # 변수처럼 사용 가능, __name 필드값을 반환하는 setter 메서드 역할\n",
    "        if age < 0:\n",
    "            raise TypeError(\"나이는 0 이상의 값만 허용합니다.\")\n",
    "        self.__age = age\n",
    "    \n",
    "    @classmethod\n",
    "    def get_info(cls):\n",
    "        return \"현재 Person 클래스의 인스턴스는 총 {}개 입니다.\".format(cls.count)\n",
    "    \n",
    "    def __gt__(self, other):  # greater than로 비교 연산자 '>' 에 해당\n",
    "        return self.__age > other.__age\n",
    "    \n",
    "    def __ge__(self, other):  # greater and equal로 비교 연산자 '>=' 에 해당\n",
    "        return self.__age >= other.__age\n",
    "    \n",
    "    def __lt__(self, other):  # lower로 비교 연산자 '<' 에 해당\n",
    "        return self.__age < other.__age\n",
    "    \n",
    "    def __le__(self, other):  # lower and equal로 비교 연산자 '<= 에 해당\n",
    "        return self.__age <= other.__age\n",
    "    \n",
    "    def __eq__(self, other):  # equal로 비교 연산자 '==' 에 해당\n",
    "        return self.__age == other.__age\n",
    "    \n",
    "    def __ne__(self, other):  # not equal로 비교 연산자 '!=' 에 해당\n",
    "        return self.__age != other.__age\n",
    "    \n",
    "    def __str__(self):\n",
    "        return \"{}\\t{}\".format(self.__name, self.__age)\n",
    "\n",
    "members = [\n",
    "    Person(\"홍길동\", 20),\n",
    "    Person(\"이순신\", 45),\n",
    "    Person(\"강감찬\", 35),\n",
    "]\n",
    "for m in members:\n",
    "    print(str(m))"
   ]
  },
  {
   "cell_type": "markdown",
   "metadata": {},
   "source": [
    "---\n",
    "# 4. 클래스 상속\n",
    "- 자식 클래스가 부모 클래스를 상속\n",
    "- 부모 클래스에서 정의된 변수, 동작들의 재사용, 확장 수정 가능\n",
    "- **class 클래스이름(부모 클래스)** 형식으로 상속 가능"
   ]
  },
  {
   "cell_type": "code",
   "execution_count": 38,
   "metadata": {},
   "outputs": [
    {
     "name": "stdout",
     "output_type": "stream",
     "text": [
      "Parent 클래스의 __init__() ...\n",
      "Child 클래스의 __init__() ...\n",
      "Py\n",
      "thon\n",
      "Py thon\n"
     ]
    }
   ],
   "source": [
    "class Person:\n",
    "    def __init__(self, family_name):\n",
    "        self.__family_name = family_name\n",
    "        print(\"Parent 클래스의 __init__() ...\")\n",
    "    \n",
    "    @property\n",
    "    def family_name(self):\n",
    "        return self.__family_name\n",
    "    \n",
    "\n",
    "class Child(Person):\n",
    "    def __init__(self, first_name, last_name):\n",
    "        Person.__init__(self, last_name)\n",
    "        # super().__init__(last_name)     위와 동일한 기능(부모 클래스의 초기화)\n",
    "        self.__first_name = first_name\n",
    "        print(\"Child 클래스의 __init__() ...\")\n",
    "    \n",
    "    @property\n",
    "    def first_name(self):\n",
    "        return self.__first_name\n",
    "    \n",
    "    @first_name.setter\n",
    "    def first_name(self, first_name):\n",
    "        self.__first_name = first_name\n",
    "    \n",
    "    @property\n",
    "    def name(self):\n",
    "        return \"{} {}\".format(self.family_name, self.first_name)\n",
    "\n",
    "child = Child(\"thon\", \"Py\")\n",
    "print(child.family_name)\n",
    "print(child.first_name)\n",
    "print(child.name)"
   ]
  },
  {
   "cell_type": "markdown",
   "metadata": {},
   "source": [
    "## 4.1 메서드 오버라이딩\n",
    "- 부모클래스에 있는 메서드와 **동일한 서명을 가진 메서드를**\n",
    "- **자식클래스에서 다시 정의해** 사용하는 것"
   ]
  },
  {
   "cell_type": "code",
   "execution_count": 42,
   "metadata": {},
   "outputs": [
    {
     "name": "stdout",
     "output_type": "stream",
     "text": [
      "Parent 클래스의 __init__() ...\n",
      "Child 클래스의 __init__() ...\n",
      "Parent: Py\n",
      "Child: Py thon\n",
      "Child\n"
     ]
    }
   ],
   "source": [
    "class Person:\n",
    "    def __init__(self, family_name):\n",
    "        self.__family_name = family_name\n",
    "        print(\"Parent 클래스의 __init__() ...\")\n",
    "    \n",
    "    @property\n",
    "    def family_name(self):\n",
    "        return self.__family_name\n",
    "    \n",
    "    def print_info(self):\n",
    "        print(\"Parent: {}\".format(self.family_name))\n",
    "        \n",
    "class Child(Person):\n",
    "    def __init__(self, first_name, last_name):\n",
    "        Person.__init__(self, last_name)\n",
    "        # super().__init__(last_name)     위와 동일한 기능(부모 클래스의 초기화)\n",
    "        self.__first_name = first_name\n",
    "        print(\"Child 클래스의 __init__() ...\")\n",
    "    \n",
    "    @property\n",
    "    def first_name(self):\n",
    "        return self.__first_name\n",
    "    \n",
    "    @first_name.setter\n",
    "    def first_name(self, first_name):\n",
    "        self.__first_name = first_name\n",
    "    \n",
    "    @property\n",
    "    def name(self):\n",
    "        return \"{} {}\".format(self.family_name, self.first_name)\n",
    "    \n",
    "    def print_info(self):\n",
    "        Person.print_info(self)\n",
    "        # super().print_info()\n",
    "        print(\"Child: {}\".format(self.name))\n",
    "    \n",
    "    def __repr__(self):\n",
    "        return \"{}\".format(self.__class__.__name__)\n",
    "\n",
    "child = Child(\"thon\", \"Py\")\n",
    "child.print_info()\n",
    "print(child)"
   ]
  }
 ],
 "metadata": {
  "kernelspec": {
   "display_name": "Python 3",
   "language": "python",
   "name": "python3"
  },
  "language_info": {
   "codemirror_mode": {
    "name": "ipython",
    "version": 3
   },
   "file_extension": ".py",
   "mimetype": "text/x-python",
   "name": "python",
   "nbconvert_exporter": "python",
   "pygments_lexer": "ipython3",
   "version": "3.8.5"
  }
 },
 "nbformat": 4,
 "nbformat_minor": 4
}
