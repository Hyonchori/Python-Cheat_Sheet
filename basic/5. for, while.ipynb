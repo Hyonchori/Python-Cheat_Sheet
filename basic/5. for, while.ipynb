{
 "cells": [
  {
   "cell_type": "markdown",
   "metadata": {},
   "source": [
    "# 1. for 문"
   ]
  },
  {
   "cell_type": "code",
   "execution_count": 4,
   "metadata": {
    "scrolled": true
   },
   "outputs": [
    {
     "name": "stdout",
     "output_type": "stream",
     "text": [
      "\n",
      "--- 2단\n",
      "2 x 1 =  2\n",
      "2 x 2 =  4\n",
      "2 x 3 =  6\n",
      "2 x 4 =  8\n",
      "2 x 5 = 10\n",
      "2 x 6 = 12\n",
      "2 x 7 = 14\n",
      "2 x 8 = 16\n",
      "2 x 9 = 18\n",
      "\n",
      "--- 4단\n",
      "4 x 1 =  4\n",
      "4 x 2 =  8\n",
      "4 x 3 = 12\n",
      "4 x 4 = 16\n",
      "4 x 5 = 20\n",
      "4 x 6 = 24\n",
      "4 x 7 = 28\n",
      "4 x 8 = 32\n",
      "4 x 9 = 36\n",
      "\n",
      "--- 6단\n",
      "6 x 1 =  6\n",
      "6 x 2 = 12\n",
      "6 x 3 = 18\n",
      "6 x 4 = 24\n",
      "6 x 5 = 30\n",
      "6 x 6 = 36\n",
      "6 x 7 = 42\n",
      "6 x 8 = 48\n",
      "6 x 9 = 54\n",
      "\n",
      "--- 8단\n",
      "8 x 1 =  8\n",
      "8 x 2 = 16\n",
      "8 x 3 = 24\n",
      "8 x 4 = 32\n",
      "8 x 5 = 40\n",
      "8 x 6 = 48\n",
      "8 x 7 = 56\n",
      "8 x 8 = 64\n",
      "8 x 9 = 72\n"
     ]
    }
   ],
   "source": [
    "for i in range(2, 10):\n",
    "    if i%2 == 1:\n",
    "        continue\n",
    "        \n",
    "    print(\"\\n--- {}단\".format(i))\n",
    "    for j in range(1, 10):\n",
    "        print(\"{0} x {1} = {2:>2}\".format(i, j, i*j))"
   ]
  },
  {
   "cell_type": "markdown",
   "metadata": {},
   "source": [
    "---\n",
    "# 2. while 문"
   ]
  },
  {
   "cell_type": "code",
   "execution_count": 5,
   "metadata": {},
   "outputs": [
    {
     "name": "stdout",
     "output_type": "stream",
     "text": [
      "명령을 입력하세요. \n",
      "'q'를 입력하면 프로그램이 종료됩니다. :ㅈ\n",
      "'ㅈ'를 입력하였습니다.\n",
      "명령을 입력하세요. \n",
      "'q'를 입력하면 프로그램이 종료됩니다. :ㅁ\n",
      "'ㅁ'를 입력하였습니다.\n",
      "명령을 입력하세요. \n",
      "'q'를 입력하면 프로그램이 종료됩니다. :q\n",
      "프로그램을 종료합니다...\n"
     ]
    }
   ],
   "source": [
    "answer = \"\"\n",
    "\n",
    "while True:\n",
    "    answer = input(\"명령을 입력하세요. \\n'q'를 입력하면 프로그램이 종료됩니다. :\")\n",
    "    if answer == 'q':\n",
    "        break\n",
    "    print(\"'{}'를 입력하였습니다.\".format(answer))\n",
    "\n",
    "print(\"프로그램을 종료합니다...\")"
   ]
  },
  {
   "cell_type": "code",
   "execution_count": null,
   "metadata": {},
   "outputs": [],
   "source": []
  }
 ],
 "metadata": {
  "kernelspec": {
   "display_name": "Python 3",
   "language": "python",
   "name": "python3"
  },
  "language_info": {
   "codemirror_mode": {
    "name": "ipython",
    "version": 3
   },
   "file_extension": ".py",
   "mimetype": "text/x-python",
   "name": "python",
   "nbconvert_exporter": "python",
   "pygments_lexer": "ipython3",
   "version": "3.8.5"
  }
 },
 "nbformat": 4,
 "nbformat_minor": 4
}
