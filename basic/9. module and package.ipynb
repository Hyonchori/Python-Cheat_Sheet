{
 "cells": [
  {
   "cell_type": "markdown",
   "metadata": {},
   "source": [
    "# 1. 표준 모듈의 활용"
   ]
  },
  {
   "cell_type": "markdown",
   "metadata": {},
   "source": [
    "## 1.1 표준 모듈\n",
    "- 각기 목적에 맞게 설계되어 있고 \n",
    "- 다양한 함수, 클래스 등을 제공\n",
    "- 별도의 추가 설치 과정 없이 import 문으로 로딩해 사용"
   ]
  },
  {
   "cell_type": "markdown",
   "metadata": {},
   "source": [
    "## 1.2 sys 모듈\n",
    "- **시스템과 관련된 정보에 접근**하거나\n",
    "- **명령행에서 전달된 명령행 매개변수로부터 인자 값을 읽어올 때** 활용"
   ]
  },
  {
   "cell_type": "code",
   "execution_count": 3,
   "metadata": {},
   "outputs": [
    {
     "name": "stdout",
     "output_type": "stream",
     "text": [
      "['C:\\\\Users\\\\gus8c\\\\anaconda3\\\\lib\\\\site-packages\\\\ipykernel_launcher.py', '-f', 'C:\\\\Users\\\\gus8c\\\\AppData\\\\Roaming\\\\jupyter\\\\runtime\\\\kernel-0ca221cc-dee1-4c14-bb68-2e9ac60e0a7c.json']\n"
     ]
    }
   ],
   "source": [
    "import sys\n",
    "\n",
    "argvs = sys.argv  # .py프로그램을 실행할 때 인자로 넣는 값들\n",
    "print(argvs)"
   ]
  },
  {
   "cell_type": "markdown",
   "metadata": {},
   "source": [
    "## 1.3 ramdom 모듈\n",
    "- **(연속적인 임의의 수)를 생성**"
   ]
  },
  {
   "cell_type": "code",
   "execution_count": 29,
   "metadata": {
    "scrolled": true
   },
   "outputs": [
    {
     "name": "stdout",
     "output_type": "stream",
     "text": [
      "0.7308381466597726\n",
      "1.6489506133876786\n",
      "39\n",
      "1\n",
      "[3, 1]\n",
      "[5, 4]\n",
      "[3, 5, 2, 4, 1]\n"
     ]
    }
   ],
   "source": [
    "from random import random, uniform, randrange, choice, choices, sample, shuffle\n",
    "\n",
    "print(random())         # 0.0 < N < 1.0 범위의 부동소수점 난수 N 반환\n",
    "print(uniform(1, 10))   # 지정된 범위 내의 부동소수점 난수 N 반환\n",
    "print(randrange(1, 45, 2))  # start, end, step 매개변수를 받아 정수형 난수 N 반환\n",
    "\n",
    "print(choice([1, 2, 3, 4, 5])) # 인자로 전달된 시퀀스 객체의 항목 중 임의 항목 반환\n",
    "print(choices([1, 2, 3, 4, 5], k=2)) # 인자로 전달된 시퀀스 객체의 항목 중 임의 항목 k개 반환 (복원추출)\n",
    "print(sample([1, 2, 3, 4, 5], k=2)) # 인자로 전달된 시퀀스 객체의 항목 중 임의 항목 k개 반환 (비복원추출)\n",
    "\n",
    "lst = [1, 2, 3, 4, 5]\n",
    "shuffle(lst)\n",
    "print(lst)"
   ]
  },
  {
   "cell_type": "markdown",
   "metadata": {},
   "source": [
    "## 1.4 datetime 모듈\n",
    "- **날짜와 시간 정보를 확인하고 조작**하는 클래스, 함수 등을 제공"
   ]
  },
  {
   "cell_type": "code",
   "execution_count": 39,
   "metadata": {},
   "outputs": [
    {
     "name": "stdout",
     "output_type": "stream",
     "text": [
      "2021-06-04-20-40-52\n",
      "2021년 06월 04일 20시 40분 52초\n"
     ]
    }
   ],
   "source": [
    "from datetime import datetime, timezone, timedelta\n",
    "\n",
    "now = datetime.now()\n",
    "print(\"{0}-{1:02}-{2:02}-{3:02}-{4:02}-{5:-02}\".format(\n",
    "    now.year, now.month, now.day, now.hour, now.minute, now.second))\n",
    "\n",
    "fmt = \"%Y{0} %m{1} %d{2} %H{3} %M{4} %S{5}\"\n",
    "print(now.strftime(fmt).format(*\"년월일시분초\"))"
   ]
  },
  {
   "cell_type": "markdown",
   "metadata": {},
   "source": [
    "---\n",
    "# 2. 사용자 정의 모듈"
   ]
  },
  {
   "cell_type": "markdown",
   "metadata": {},
   "source": [
    "## 2.1 모듈의 __name__ 속성\n",
    ">**실행 목적의 모듈**\n",
    ">- __name__ 속성에 **__main__** 문자열 값이 들어가 있음\n",
    "\n",
    ">**라이브러리 목적의 모듈**\n",
    ">- __name__ 속성에 모듈의 이름이 저장되어 있음"
   ]
  },
  {
   "cell_type": "code",
   "execution_count": 40,
   "metadata": {},
   "outputs": [
    {
     "name": "stdout",
     "output_type": "stream",
     "text": [
      "This is main module\n"
     ]
    }
   ],
   "source": [
    "if __name__ == \"__main__\":\n",
    "    print(\"This is main module\")"
   ]
  },
  {
   "cell_type": "markdown",
   "metadata": {},
   "source": [
    "---\n",
    "# 3. 사용자 정의 패키지\n",
    "1. 폴더를 생성\n",
    "2. 폴더에 사용자 정의 모듈을 담음\n",
    "3. **__init__.py 파일 생성\n",
    "    - 내용은 __all__ = [\"모듈1.py\", \"모듈2.py\", ...]\n",
    "    - 패키지에 포함될 모듈 이름 저장"
   ]
  },
  {
   "cell_type": "code",
   "execution_count": null,
   "metadata": {},
   "outputs": [],
   "source": []
  }
 ],
 "metadata": {
  "kernelspec": {
   "display_name": "Python 3",
   "language": "python",
   "name": "python3"
  },
  "language_info": {
   "codemirror_mode": {
    "name": "ipython",
    "version": 3
   },
   "file_extension": ".py",
   "mimetype": "text/x-python",
   "name": "python",
   "nbconvert_exporter": "python",
   "pygments_lexer": "ipython3",
   "version": "3.8.5"
  }
 },
 "nbformat": 4,
 "nbformat_minor": 4
}
