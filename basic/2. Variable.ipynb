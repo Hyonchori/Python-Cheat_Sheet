{
 "cells": [
  {
   "cell_type": "code",
   "execution_count": 1,
   "metadata": {},
   "outputs": [
    {
     "name": "stdout",
     "output_type": "stream",
     "text": [
      "True\n",
      "False\n"
     ]
    }
   ],
   "source": [
    "var1 = 10\n",
    "var2 = 10\n",
    "print(var1 is var2)\n",
    "\n",
    "var3 = 20\n",
    "print(var1 is var3)"
   ]
  },
  {
   "cell_type": "markdown",
   "metadata": {},
   "source": [
    "---\n",
    "# 1. Bool\n",
    "**참, 거짓을 판단하는 표현식에 사용하는 자료형**  \n",
    "- True, False 값을 가짐\n",
    "- 관계 연산자, 논리 연산자를 사용하는 표현식이 Bool값을 반환"
   ]
  },
  {
   "cell_type": "code",
   "execution_count": 3,
   "metadata": {},
   "outputs": [
    {
     "name": "stdout",
     "output_type": "stream",
     "text": [
      "True False\n"
     ]
    }
   ],
   "source": [
    "x, y = 10, 20\n",
    "print(x < y, x > y)"
   ]
  },
  {
   "cell_type": "code",
   "execution_count": 4,
   "metadata": {},
   "outputs": [
    {
     "name": "stdout",
     "output_type": "stream",
     "text": [
      "False\n"
     ]
    }
   ],
   "source": [
    "print(False and True)"
   ]
  },
  {
   "cell_type": "markdown",
   "metadata": {},
   "source": [
    "---\n",
    "# 2. Tuple\n",
    "**()안에 서로 다른 자료형의 값을 콤마(,)로 구분해 하나 이상 저장할 수 있는 컬렉션 자료형**  \n",
    "- 튜플은 한 번 저장된 항목의 값을 변경할 수 없음\n",
    "- **불변 객체**"
   ]
  },
  {
   "cell_type": "code",
   "execution_count": 6,
   "metadata": {},
   "outputs": [
    {
     "data": {
      "text/plain": [
       "True"
      ]
     },
     "execution_count": 6,
     "metadata": {},
     "output_type": "execute_result"
    }
   ],
   "source": [
    "student1 = (\"홍길동\", 20)\n",
    "student2 = \"홍길동\", 20    # 위 식과 동일\n",
    "student1 == student2"
   ]
  },
  {
   "cell_type": "code",
   "execution_count": 7,
   "metadata": {},
   "outputs": [
    {
     "name": "stdout",
     "output_type": "stream",
     "text": [
      "홍길동 20\n"
     ]
    }
   ],
   "source": [
    "print(student1[0], student1[1])"
   ]
  },
  {
   "cell_type": "markdown",
   "metadata": {},
   "source": [
    "---\n",
    "# 3. List\n",
    "**[]안에 서로 다른 자료형의 값을 콤마(,)로 구분해 하나 이상 저장할 수 있는 컬렉션 자료형**  \n",
    "- 리스트 한 번 저장된 항목의 값을 변경할 수 있음\n",
    "- **가변 객체**"
   ]
  },
  {
   "cell_type": "code",
   "execution_count": 8,
   "metadata": {},
   "outputs": [
    {
     "name": "stdout",
     "output_type": "stream",
     "text": [
      "홍길동 20\n",
      "21\n"
     ]
    }
   ],
   "source": [
    "student = [\"홍길동\", 20]\n",
    "print(student[0], student[1])\n",
    "student[1] = 21\n",
    "print(student[1])"
   ]
  },
  {
   "cell_type": "markdown",
   "metadata": {},
   "source": [
    "---\n",
    "# 4. Set\n",
    "**{}안에 서로 다른 자료형의 값을 콤마(,)로 구분해 하나 이상 저장할 수 있는 컬렉션 자료형**\n",
    "- **불변 객체**\n",
    "- 순서의 개념이 존재하지 않아 **인덱스를 사용할 수 없음**"
   ]
  },
  {
   "cell_type": "code",
   "execution_count": 10,
   "metadata": {},
   "outputs": [
    {
     "name": "stdout",
     "output_type": "stream",
     "text": [
      "{'홍길동', '이순신', '강감찬'} 3\n"
     ]
    }
   ],
   "source": [
    "student = {\"홍길동\", \"이순신\", \"강감찬\", \"홍길동\"}\n",
    "print(student, len(student))"
   ]
  },
  {
   "cell_type": "code",
   "execution_count": 11,
   "metadata": {},
   "outputs": [
    {
     "name": "stdout",
     "output_type": "stream",
     "text": [
      "{'홍길동', '을지문덕', '이순신', '강감찬'}\n"
     ]
    }
   ],
   "source": [
    "student |= {\"을지문덕\", \"이순신\"}   # set에 요소 추가\n",
    "print(student)"
   ]
  },
  {
   "cell_type": "markdown",
   "metadata": {},
   "source": [
    "---\n",
    "# 5. Dictionary\n",
    "**{}안에 서로 다른 자료형의 값을 콤마(,)로 구분해 하나 이상 저장할 수 있는 컬렉션 자료형**\n",
    "- **가변 객체**\n",
    "- 키를 이용해 값을 읽어올 수 있음\n",
    "- 항목을 추가할 때\n",
    "    - 동일키가 없으면: 새로운 항목 추가\n",
    "    - 동일키가 있으면: 저장된 항목 변경"
   ]
  },
  {
   "cell_type": "code",
   "execution_count": 12,
   "metadata": {},
   "outputs": [
    {
     "name": "stdout",
     "output_type": "stream",
     "text": [
      "{1: '골든리트리버', 2: '진돗개', 3: '보더콜리'}\n"
     ]
    }
   ],
   "source": [
    "dogs = {1: \"골든리트리버\", 2: \"진돗개\", 3: \"보더콜리\"}\n",
    "print(dogs)"
   ]
  },
  {
   "cell_type": "code",
   "execution_count": 14,
   "metadata": {},
   "outputs": [
    {
     "name": "stdout",
     "output_type": "stream",
     "text": [
      "골든리트리버 진돗개 보더콜리\n"
     ]
    }
   ],
   "source": [
    "print(dogs[1], dogs[2], dogs[3])"
   ]
  },
  {
   "cell_type": "code",
   "execution_count": 15,
   "metadata": {},
   "outputs": [
    {
     "name": "stdout",
     "output_type": "stream",
     "text": [
      "{1: '골든리트리버', 2: '레브라도리트리버', 3: '보더콜리'}\n"
     ]
    }
   ],
   "source": [
    "dogs[2] = \"레브라도리트리버\"\n",
    "print(dogs)"
   ]
  },
  {
   "cell_type": "code",
   "execution_count": 16,
   "metadata": {},
   "outputs": [
    {
     "name": "stdout",
     "output_type": "stream",
     "text": [
      "{1: '골든리트리버', 2: '레브라도리트리버', 3: '보더콜리', 4: '알래스카말라뮤트'}\n"
     ]
    }
   ],
   "source": [
    "dogs[4] = \"알래스카말라뮤트\"\n",
    "print(dogs)"
   ]
  },
  {
   "cell_type": "markdown",
   "metadata": {},
   "source": [
    "---\n",
    "# 6. None\n",
    "**None 객체를 이용해 널(null) 객체 상태를 표현함**  \n",
    "- 객체가 존재하지 않는 상태를 나타냄\n",
    "- 최초 변수를 선언할 때 초기화를 하지 않으면 에러가 발생하는데, 이때 None값으로 초기화할 수 있음\n",
    "- 객체가 None인지 확인할 때는 **= 보다는 is 연산자 사용**"
   ]
  },
  {
   "cell_type": "code",
   "execution_count": 18,
   "metadata": {},
   "outputs": [
    {
     "name": "stdout",
     "output_type": "stream",
     "text": [
      "True True\n"
     ]
    }
   ],
   "source": [
    "obj = None\n",
    "print(obj == None, obj is None)"
   ]
  },
  {
   "cell_type": "markdown",
   "metadata": {},
   "source": [
    "---\n",
    "# 7. 변수 초기화하기\n"
   ]
  },
  {
   "cell_type": "code",
   "execution_count": 19,
   "metadata": {},
   "outputs": [
    {
     "name": "stdout",
     "output_type": "stream",
     "text": [
      "10 10\n"
     ]
    }
   ],
   "source": [
    "x = y = 10\n",
    "print(x, y)"
   ]
  },
  {
   "cell_type": "code",
   "execution_count": 25,
   "metadata": {},
   "outputs": [
    {
     "name": "stdout",
     "output_type": "stream",
     "text": [
      "10 20\n",
      "10 20\n",
      "10 20\n"
     ]
    }
   ],
   "source": [
    "x, y = (10, 20)\n",
    "print(x, y)\n",
    "\n",
    "x, y = 10, 20\n",
    "print(x, y)\n",
    "\n",
    "(x, y) = (10, 20)\n",
    "print(x, y)"
   ]
  },
  {
   "cell_type": "code",
   "execution_count": 26,
   "metadata": {},
   "outputs": [
    {
     "name": "stdout",
     "output_type": "stream",
     "text": [
      "10 20\n",
      "10 20\n",
      "10 20\n"
     ]
    }
   ],
   "source": [
    "x, y = [10, 20]\n",
    "print(x, y)\n",
    "\n",
    "[x, y] = 10, 20\n",
    "print(x, y)\n",
    "\n",
    "[x, y] = [10, 20]\n",
    "print(x, y)"
   ]
  },
  {
   "cell_type": "markdown",
   "metadata": {},
   "source": [
    "# 8. 변수 변경하기"
   ]
  },
  {
   "cell_type": "code",
   "execution_count": 27,
   "metadata": {},
   "outputs": [
    {
     "name": "stdout",
     "output_type": "stream",
     "text": [
      "10 20\n",
      "20 10\n"
     ]
    }
   ],
   "source": [
    "x, y = 10, 20\n",
    "print(x, y)\n",
    "\n",
    "x, y = y, x\n",
    "print(x, y)"
   ]
  },
  {
   "cell_type": "markdown",
   "metadata": {},
   "source": [
    "# 9. 변수 제거하기"
   ]
  },
  {
   "cell_type": "code",
   "execution_count": 30,
   "metadata": {},
   "outputs": [
    {
     "name": "stdout",
     "output_type": "stream",
     "text": [
      "10 10\n"
     ]
    },
    {
     "ename": "NameError",
     "evalue": "name 'x' is not defined",
     "output_type": "error",
     "traceback": [
      "\u001b[1;31m---------------------------------------------------------------------------\u001b[0m",
      "\u001b[1;31mNameError\u001b[0m                                 Traceback (most recent call last)",
      "\u001b[1;32m<ipython-input-30-5555d9a6fd63>\u001b[0m in \u001b[0;36m<module>\u001b[1;34m\u001b[0m\n\u001b[0;32m      3\u001b[0m \u001b[1;33m\u001b[0m\u001b[0m\n\u001b[0;32m      4\u001b[0m \u001b[1;32mdel\u001b[0m \u001b[0mx\u001b[0m\u001b[1;33m,\u001b[0m \u001b[0my\u001b[0m\u001b[1;33m\u001b[0m\u001b[1;33m\u001b[0m\u001b[0m\n\u001b[1;32m----> 5\u001b[1;33m \u001b[0mprint\u001b[0m\u001b[1;33m(\u001b[0m\u001b[0mx\u001b[0m\u001b[1;33m,\u001b[0m \u001b[0my\u001b[0m\u001b[1;33m)\u001b[0m\u001b[1;33m\u001b[0m\u001b[1;33m\u001b[0m\u001b[0m\n\u001b[0m",
      "\u001b[1;31mNameError\u001b[0m: name 'x' is not defined"
     ]
    }
   ],
   "source": [
    "x = y = 10\n",
    "print(x, y)\n",
    "\n",
    "del x, y\n",
    "print(x, y)"
   ]
  },
  {
   "cell_type": "code",
   "execution_count": null,
   "metadata": {},
   "outputs": [],
   "source": []
  }
 ],
 "metadata": {
  "kernelspec": {
   "display_name": "Python 3",
   "language": "python",
   "name": "python3"
  },
  "language_info": {
   "codemirror_mode": {
    "name": "ipython",
    "version": 3
   },
   "file_extension": ".py",
   "mimetype": "text/x-python",
   "name": "python",
   "nbconvert_exporter": "python",
   "pygments_lexer": "ipython3",
   "version": "3.8.5"
  }
 },
 "nbformat": 4,
 "nbformat_minor": 4
}
