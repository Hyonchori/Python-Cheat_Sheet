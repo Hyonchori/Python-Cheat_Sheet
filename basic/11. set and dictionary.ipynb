{
 "cells": [
  {
   "cell_type": "markdown",
   "metadata": {},
   "source": [
    "---\n",
    "# 1. 셋 (set)\n",
    "- 중괄호{} 안에 서로 다른 자료형의 유일한 값을 콤마로 구분\n",
    "- 인덱스를 제공하지 않음 = 순서의 개념이 없음\n",
    "- **중복되지 않는** 데이터를 만들기 위해 사용하는 자료구조"
   ]
  },
  {
   "cell_type": "markdown",
   "metadata": {},
   "source": [
    "## 1.1 셋 생성\n"
   ]
  },
  {
   "cell_type": "code",
   "execution_count": 4,
   "metadata": {},
   "outputs": [
    {
     "name": "stdout",
     "output_type": "stream",
     "text": [
      "{'python', 10, 20}\n",
      "{10, 12, 14, 16, 18, 20}\n",
      "{'o', 'T', 'e', ' ', 'B', 't', 'r', 'w', 'm'}\n"
     ]
    }
   ],
   "source": [
    "data = {10, 20, \"python\", \"python\"}\n",
    "print(data)\n",
    "\n",
    "data = set(range(10, 21, 2))\n",
    "print(data)\n",
    "\n",
    "data = set(\"Better Tommorow\")   # {'o', 'T', 'e', ' ', 'B', 't', 'r', 'w', 'm'}\n",
    "print(data)                     # 순서의 개념이 없어짐"
   ]
  },
  {
   "cell_type": "markdown",
   "metadata": {},
   "source": [
    "## 1.2 셋 기본 연산"
   ]
  },
  {
   "cell_type": "code",
   "execution_count": 7,
   "metadata": {},
   "outputs": [
    {
     "name": "stdout",
     "output_type": "stream",
     "text": [
      "{1, 2, 3, 4, 5, 6, 7, 11}\n",
      "{2, 3, 5, 9, 11, 12, 15}\n",
      "\n",
      "{11, 2, 3, 5}\n",
      "{1, 2, 3, 4, 5, 6, 7, 9, 11, 12, 15}\n",
      "{1, 4, 6, 7}\n",
      "\n",
      "{11, 2, 3, 5}\n",
      "{1, 2, 3, 4, 5, 6, 7, 9, 11, 12, 15}\n",
      "{1, 4, 6, 7}\n"
     ]
    }
   ],
   "source": [
    "set1 = {1, 2, 2, 3, 4, 4, 5, 6, 7, 7, 7, 11}\n",
    "set2 = {2, 3, 5, 9, 11, 12, 15}\n",
    "print(set1)\n",
    "print(set2)\n",
    "print(\"\")\n",
    "\n",
    "print(set1 & set2)\n",
    "print(set1 | set2)\n",
    "print(set1 - set2)\n",
    "print(\"\")\n",
    "\n",
    "print(set1.intersection(set2))\n",
    "print(set1.union(set2))\n",
    "print(set1.difference(set2))"
   ]
  },
  {
   "cell_type": "markdown",
   "metadata": {},
   "source": [
    "## 1.3 셋 항목 추가"
   ]
  },
  {
   "cell_type": "code",
   "execution_count": 11,
   "metadata": {},
   "outputs": [
    {
     "name": "stdout",
     "output_type": "stream",
     "text": [
      "{1, 2, 3, 4}\n",
      "{1, 2, 3, 4, 5}\n"
     ]
    }
   ],
   "source": [
    "data = {1, 2, 3}\n",
    "data.add(3)\n",
    "data.add(4)\n",
    "print(data)\n",
    "\n",
    "data = {1, 2, 3}\n",
    "data.update({4, 5})\n",
    "print(data)"
   ]
  },
  {
   "cell_type": "markdown",
   "metadata": {},
   "source": [
    "## 1.4 셋 항목 제거"
   ]
  },
  {
   "cell_type": "code",
   "execution_count": 18,
   "metadata": {},
   "outputs": [
    {
     "name": "stdout",
     "output_type": "stream",
     "text": [
      "{1, 3, 4, 5, 6, 7, 8, 10}\n",
      "1 {2, 3, 4, 5, 6, 7, 8, 9, 10}\n",
      "set()\n"
     ]
    }
   ],
   "source": [
    "data = {1, 2, 3, 4, 5, 6, 7, 8, 9, 10}\n",
    "data.remove(9)\n",
    "data.remove(2)\n",
    "#data.remove(11)  # 없는 값을 제거하려하면 KeyError 발생\n",
    "print(data)\n",
    "\n",
    "data = {1, 2, 3, 4, 5, 6, 7, 8, 9, 10}\n",
    "print(data.pop(), data)    # 셋의 첫 번째 항목 제거\n",
    "\n",
    "data.clear()\n",
    "print(data)"
   ]
  },
  {
   "cell_type": "markdown",
   "metadata": {},
   "source": [
    "## 1.5 셋 항목 확인\n"
   ]
  },
  {
   "cell_type": "code",
   "execution_count": 20,
   "metadata": {},
   "outputs": [
    {
     "name": "stdout",
     "output_type": "stream",
     "text": [
      "True\n",
      "True\n",
      "\n",
      "True\n",
      "False\n",
      "\n"
     ]
    }
   ],
   "source": [
    "set1 = {1, 2, 3, 4, 5}\n",
    "set2 = {2, 3}\n",
    "\n",
    "print(3 in set1)\n",
    "print(6 not in set1)\n",
    "print(\"\")\n",
    "\n",
    "print(set1.issuperset(set2))\n",
    "print(set1.issubset(set2))\n",
    "print(\"\")"
   ]
  },
  {
   "cell_type": "markdown",
   "metadata": {},
   "source": [
    "## 1.6 셋 for 문"
   ]
  },
  {
   "cell_type": "code",
   "execution_count": 21,
   "metadata": {},
   "outputs": [
    {
     "name": "stdout",
     "output_type": "stream",
     "text": [
      "0 0\n",
      "1 2\n",
      "2 4\n",
      "3 6\n",
      "4 8\n",
      "5 10\n"
     ]
    }
   ],
   "source": [
    "data = set(range(0, 11, 2))\n",
    "for i, item in enumerate(data):\n",
    "    print(i, item)"
   ]
  },
  {
   "cell_type": "markdown",
   "metadata": {},
   "source": [
    "## 1.7 셋 내포"
   ]
  },
  {
   "cell_type": "code",
   "execution_count": 22,
   "metadata": {},
   "outputs": [
    {
     "name": "stdout",
     "output_type": "stream",
     "text": [
      "{1, 2, 3, 4, 5}\n",
      "{2, 4}\n"
     ]
    }
   ],
   "source": [
    "set1 = {1, 2, 3, 4, 5}\n",
    "set2 = {n for n in set1 if n%2 == 0}\n",
    "print(set1)\n",
    "print(set2)"
   ]
  },
  {
   "cell_type": "markdown",
   "metadata": {},
   "source": [
    "## 1.8 리스트, 튜플, 셋 변환"
   ]
  },
  {
   "cell_type": "code",
   "execution_count": 23,
   "metadata": {},
   "outputs": [
    {
     "name": "stdout",
     "output_type": "stream",
     "text": [
      "['H', 'e', 'l', 'l', 'o']\n",
      "('H', 'e', 'l', 'l', 'o')\n",
      "{'l', 'o', 'H', 'e'}\n"
     ]
    }
   ],
   "source": [
    "a = \"Hello\"\n",
    "print(list(a))\n",
    "print(tuple(a))\n",
    "print(set(a))"
   ]
  },
  {
   "cell_type": "markdown",
   "metadata": {},
   "source": [
    "---\n",
    "# 2. 딕셔너리\n",
    "- 중괄호{} 안에 **키: 값** 형식의 유일한 데이터를 콤마로 구분\n",
    "- 인덱스를 제공하지 않음 = 순서의 개념이 없음\n",
    "- **중복되지 않는** 데이터를 만들기 위해 사용하는 자료구조"
   ]
  },
  {
   "cell_type": "markdown",
   "metadata": {},
   "source": [
    "## 2.1 딕셔너리 생성\n"
   ]
  },
  {
   "cell_type": "code",
   "execution_count": 26,
   "metadata": {},
   "outputs": [
    {
     "name": "stdout",
     "output_type": "stream",
     "text": [
      "{'홍길동': 20, '이순신': 45, '강감찬': 35}\n",
      "{'홍길동': 20, '이순신': 45, '강감찬': 35}\n"
     ]
    }
   ],
   "source": [
    "data = {\n",
    "    \"홍길동\" : 20,\n",
    "    \"이순신\" : 45,\n",
    "    \"강감찬\" : 35\n",
    "}\n",
    "print(data)\n",
    "\n",
    "data = dict(홍길동=20, 이순신=45, 강감찬=35)  # 키를 문자열로 입력하지 않도록 주의\n",
    "print(data)"
   ]
  },
  {
   "cell_type": "code",
   "execution_count": 27,
   "metadata": {},
   "outputs": [
    {
     "name": "stdout",
     "output_type": "stream",
     "text": [
      "{'홍길동': 20, '이순신': 45, '강감찬': 35}\n",
      "{'홍길동': 20, '이순신': 45, '강감찬': 35}\n",
      "{'홍길동': 20, '이순신': 45, '강감찬': 35}\n"
     ]
    }
   ],
   "source": [
    "data_tuple = ((\"홍길동\", 20), (\"이순신\", 45), (\"강감찬\", 35))\n",
    "data_dict = dict(data_tuple)\n",
    "print(data_dict)\n",
    "\n",
    "data_list = [(\"홍길동\", 20), (\"이순신\", 45), (\"강감찬\", 35)]\n",
    "data_dict = dict(data_list)\n",
    "print(data_dict)\n",
    "\n",
    "data_set = {(\"홍길동\", 20), (\"이순신\", 45), (\"강감찬\", 35)}\n",
    "data_dict = dict(data_set)\n",
    "print(data_dict)"
   ]
  },
  {
   "cell_type": "markdown",
   "metadata": {},
   "source": [
    "## 2.2 딕셔너리 항목 접근\n"
   ]
  },
  {
   "cell_type": "code",
   "execution_count": 28,
   "metadata": {},
   "outputs": [
    {
     "name": "stdout",
     "output_type": "stream",
     "text": [
      "20 45 35\n"
     ]
    }
   ],
   "source": [
    "data_dict = {\n",
    "    \"홍길동\" : 20,\n",
    "    \"이순신\" : 45,\n",
    "    \"강감찬\" : 35\n",
    "}\n",
    "print(data_dict[\"홍길동\"], data_dict[\"이순신\"], data_dict[\"강감찬\"])"
   ]
  },
  {
   "cell_type": "markdown",
   "metadata": {},
   "source": [
    "## 2.2 딕셔너리 항목 추가"
   ]
  },
  {
   "cell_type": "code",
   "execution_count": 30,
   "metadata": {},
   "outputs": [
    {
     "name": "stdout",
     "output_type": "stream",
     "text": [
      "{'홍길동': 20, '이순신': 45, '강감찬': 35, '을지문덕': 40}\n"
     ]
    }
   ],
   "source": [
    "data_dict = {\n",
    "    \"홍길동\" : 20,\n",
    "    \"이순신\" : 45,\n",
    "    \"강감찬\" : 35\n",
    "}\n",
    "data_dict[\"을지문덕\"] = 40   # 중복되지 않는 키에 대한 값을 정의\n",
    "print(data_dict)"
   ]
  },
  {
   "cell_type": "markdown",
   "metadata": {},
   "source": [
    "## 2.3 딕셔너리 항목 변경"
   ]
  },
  {
   "cell_type": "code",
   "execution_count": 32,
   "metadata": {},
   "outputs": [
    {
     "name": "stdout",
     "output_type": "stream",
     "text": [
      "{'홍길동': 20, '이순신': 45, '강감찬': 40}\n",
      "{'홍길동': 25, '이순신': 48, '강감찬': 35}\n"
     ]
    }
   ],
   "source": [
    "data_dict = {\n",
    "    \"홍길동\" : 20,\n",
    "    \"이순신\" : 45,\n",
    "    \"강감찬\" : 35\n",
    "}\n",
    "data_dict[\"강감찬\"] = 40   # 중복되는 키에 새로운 값을 정의\n",
    "print(data_dict)\n",
    "\n",
    "data_dict = {\n",
    "    \"홍길동\" : 20,\n",
    "    \"이순신\" : 45,\n",
    "    \"강감찬\" : 35\n",
    "}\n",
    "data_dict.update({\"홍길동\": 25, \"이순신\": 48})\n",
    "print(data_dict)"
   ]
  },
  {
   "cell_type": "markdown",
   "metadata": {},
   "source": [
    "## 2.4 딕셔너리 항목 제거\n"
   ]
  },
  {
   "cell_type": "code",
   "execution_count": 33,
   "metadata": {},
   "outputs": [
    {
     "name": "stdout",
     "output_type": "stream",
     "text": [
      "{'홍길동': 20, '이순신': 45}\n",
      "{'홍길동': 20, '강감찬': 35}\n"
     ]
    }
   ],
   "source": [
    "data_dict = {\n",
    "    \"홍길동\" : 20,\n",
    "    \"이순신\" : 45,\n",
    "    \"강감찬\" : 35\n",
    "}\n",
    "del data_dict[\"강감찬\"]\n",
    "print(data_dict)\n",
    "\n",
    "data_dict = {\n",
    "    \"홍길동\" : 20,\n",
    "    \"이순신\" : 45,\n",
    "    \"강감찬\" : 35\n",
    "}\n",
    "data_dict.pop(\"이순신\")\n",
    "print(data_dict)"
   ]
  },
  {
   "cell_type": "markdown",
   "metadata": {},
   "source": [
    "## 2.4 딕셔너리 항목 확인"
   ]
  },
  {
   "cell_type": "code",
   "execution_count": 34,
   "metadata": {},
   "outputs": [
    {
     "name": "stdout",
     "output_type": "stream",
     "text": [
      "True\n",
      "False\n"
     ]
    }
   ],
   "source": [
    "data_dict = {\n",
    "    \"홍길동\" : 20,\n",
    "    \"이순신\" : 45,\n",
    "    \"강감찬\" : 35\n",
    "}\n",
    "print(\"홍길동\" in data_dict)\n",
    "print(\"이순신\" not in data_dict)"
   ]
  },
  {
   "cell_type": "markdown",
   "metadata": {},
   "source": [
    "## 2.5 딕셔너리 for 문\n"
   ]
  },
  {
   "cell_type": "code",
   "execution_count": 35,
   "metadata": {},
   "outputs": [
    {
     "name": "stdout",
     "output_type": "stream",
     "text": [
      "홍길동\n",
      "이순신\n",
      "강감찬\n",
      "20\n",
      "45\n",
      "35\n",
      "홍길동 20\n",
      "이순신 45\n",
      "강감찬 35\n"
     ]
    }
   ],
   "source": [
    "data_dict = {\n",
    "    \"홍길동\" : 20,\n",
    "    \"이순신\" : 45,\n",
    "    \"강감찬\" : 35\n",
    "}\n",
    "for key in data_dict.keys():\n",
    "    print(key)\n",
    "\n",
    "for val in data_dict.values():\n",
    "    print(val) \n",
    "    \n",
    "for key, val in data_dict.items():\n",
    "    print(key, val)"
   ]
  },
  {
   "cell_type": "markdown",
   "metadata": {},
   "source": [
    "## 2.6 딕셔너리 내포"
   ]
  },
  {
   "cell_type": "code",
   "execution_count": 36,
   "metadata": {},
   "outputs": [
    {
     "name": "stdout",
     "output_type": "stream",
     "text": [
      "{'홍길동': 20, '이순신': 45, '강감찬': 35}\n"
     ]
    }
   ],
   "source": [
    "data_dict = {\n",
    "    \"홍길동\" : 20,\n",
    "    \"이순신\" : 45,\n",
    "    \"강감찬\" : 35\n",
    "}\n",
    "\n",
    "data_dict2 = {key: val for (key, val) in data_dict.items()}\n",
    "print(data_dict2)"
   ]
  },
  {
   "cell_type": "markdown",
   "metadata": {},
   "source": [
    "## 2.7 딕셔너리 value 기준 정렬"
   ]
  },
  {
   "cell_type": "code",
   "execution_count": 46,
   "metadata": {},
   "outputs": [
    {
     "name": "stdout",
     "output_type": "stream",
     "text": [
      "[('이순신', 45), ('강감찬', 35), ('홍길동', 20)]\n"
     ]
    }
   ],
   "source": [
    "data_dict = {\n",
    "    \"홍길동\" : 20,\n",
    "    \"이순신\" : 45,\n",
    "    \"강감찬\" : 35\n",
    "}\n",
    "\n",
    "data_list = sorted(data_dict.items(), key=lambda items: items[1], reverse=True)\n",
    "print(data_list)"
   ]
  },
  {
   "cell_type": "code",
   "execution_count": null,
   "metadata": {},
   "outputs": [],
   "source": []
  }
 ],
 "metadata": {
  "kernelspec": {
   "display_name": "Python 3",
   "language": "python",
   "name": "python3"
  },
  "language_info": {
   "codemirror_mode": {
    "name": "ipython",
    "version": 3
   },
   "file_extension": ".py",
   "mimetype": "text/x-python",
   "name": "python",
   "nbconvert_exporter": "python",
   "pygments_lexer": "ipython3",
   "version": "3.8.5"
  }
 },
 "nbformat": 4,
 "nbformat_minor": 4
}
