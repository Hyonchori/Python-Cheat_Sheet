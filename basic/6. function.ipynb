{
 "cells": [
  {
   "cell_type": "markdown",
   "metadata": {},
   "source": [
    "# 1. 기본 함수 선언"
   ]
  },
  {
   "cell_type": "markdown",
   "metadata": {},
   "source": [
    "## 1.1 매개변수와 반환값이 있는 함수"
   ]
  },
  {
   "cell_type": "code",
   "execution_count": 1,
   "metadata": {},
   "outputs": [
    {
     "data": {
      "text/plain": [
       "5"
      ]
     },
     "execution_count": 1,
     "metadata": {},
     "output_type": "execute_result"
    }
   ],
   "source": [
    "def calc_sum(x, y):\n",
    "    return x + y\n",
    "\n",
    "a, b = 2, 3\n",
    "calc_sum(a, b)"
   ]
  },
  {
   "cell_type": "markdown",
   "metadata": {},
   "source": [
    "## 1.2 매개변수와 반환값이 없는 함수"
   ]
  },
  {
   "cell_type": "code",
   "execution_count": 2,
   "metadata": {},
   "outputs": [
    {
     "name": "stdout",
     "output_type": "stream",
     "text": [
      "매개변수와 반환값이 없는 함수\n"
     ]
    }
   ],
   "source": [
    "def func_noparameter_noreturn():\n",
    "    print(\"매개변수와 반환값이 없는 함수\")\n",
    "\n",
    "func_noparameter_noreturn()"
   ]
  },
  {
   "cell_type": "markdown",
   "metadata": {},
   "source": [
    "## 1.3 매개변수가 없고 반환값이 있는 함수"
   ]
  },
  {
   "cell_type": "code",
   "execution_count": 3,
   "metadata": {},
   "outputs": [
    {
     "data": {
      "text/plain": [
       "'Hello, Python!'"
      ]
     },
     "execution_count": 3,
     "metadata": {},
     "output_type": "execute_result"
    }
   ],
   "source": [
    "def func_noparameter_return():\n",
    "    return \"Hello, Python!\"\n",
    "\n",
    "func_noparameter_return()"
   ]
  },
  {
   "cell_type": "markdown",
   "metadata": {},
   "source": [
    "## 1.4 매개변수가 있고 반환값이 없는 함수"
   ]
  },
  {
   "cell_type": "code",
   "execution_count": 5,
   "metadata": {},
   "outputs": [
    {
     "name": "stdout",
     "output_type": "stream",
     "text": [
      "입력받은 매개변수는 2, 3, 4입니다.\n"
     ]
    }
   ],
   "source": [
    "def func_parameter_noreturn(x, y, z):\n",
    "    print(\"입력받은 매개변수는 {}, {}, {}입니다.\".format(x, y, z))\n",
    "\n",
    "func_parameter_noreturn(2, 3, 4)"
   ]
  },
  {
   "cell_type": "markdown",
   "metadata": {},
   "source": [
    "---\n",
    "# 2. 언팩 연산자를 사용한 튜플 형식의 가변 매개변수"
   ]
  },
  {
   "cell_type": "markdown",
   "metadata": {},
   "source": [
    "## 2.1 가변 매개변수만 사용"
   ]
  },
  {
   "cell_type": "code",
   "execution_count": 6,
   "metadata": {},
   "outputs": [
    {
     "name": "stdout",
     "output_type": "stream",
     "text": [
      "6\n",
      "4\n",
      "26\n"
     ]
    }
   ],
   "source": [
    "def calc_sum(*params):\n",
    "    total = 0\n",
    "    for val in params:\n",
    "        total += val\n",
    "    return total\n",
    "\n",
    "print(calc_sum(1, 2, 3))\n",
    "print(calc_sum(4))\n",
    "print(calc_sum(1, 3, 4, 5, 6, 7))"
   ]
  },
  {
   "cell_type": "markdown",
   "metadata": {},
   "source": [
    "## 2.2 명시적 매개변수와 가변 매개변수 혼합 사용\n",
    ">가변 매개변수 사용의 주의점\n",
    ">- **하나만 지정할 수 있음**\n",
    ">- **가장 마지막 매개변수로 지정할 것**"
   ]
  },
  {
   "cell_type": "code",
   "execution_count": 7,
   "metadata": {},
   "outputs": [
    {
     "name": "stdout",
     "output_type": "stream",
     "text": [
      "8\n",
      "12.0\n"
     ]
    }
   ],
   "source": [
    "def calc_sum(precision, *params):\n",
    "    if precision == 0:\n",
    "        total = 0\n",
    "    elif 0 < precision <1:\n",
    "        total = 0.0\n",
    "    \n",
    "    for val in params:\n",
    "        total += val\n",
    "    return total\n",
    "\n",
    "print(calc_sum(0, 1, 3, 4))\n",
    "print(calc_sum(0.4, 3, 3, 3, 3))"
   ]
  },
  {
   "cell_type": "markdown",
   "metadata": {},
   "source": [
    "---\n",
    "# 3. 튜플 형식의 반환값"
   ]
  },
  {
   "cell_type": "code",
   "execution_count": 8,
   "metadata": {},
   "outputs": [
    {
     "name": "stdout",
     "output_type": "stream",
     "text": [
      "(8, 8)\n",
      "(3.0, 3)\n"
     ]
    }
   ],
   "source": [
    "def calc_sum(pre1, pre2, *params):\n",
    "    if pre1 == 0:\n",
    "        total1 = 0\n",
    "    elif 0 < pre1 <1:\n",
    "        total1 = 0.0\n",
    "    \n",
    "    if pre2 == 0:\n",
    "        total2 = 0\n",
    "    elif 0 < pre2 <1:\n",
    "        total2 = 0.0\n",
    "    \n",
    "    for val in params:\n",
    "        total1 += val\n",
    "        total2 += val\n",
    "    return total1, total2\n",
    "\n",
    "print(calc_sum(0, 0, 1, 3, 4))\n",
    "print(calc_sum(0.4, 0, 1, 1, 1))"
   ]
  },
  {
   "cell_type": "markdown",
   "metadata": {},
   "source": [
    "---\n",
    "# 4. 키워드 언팩 연산자를 사용하는 딕셔너리 형식의 가변 매개변수"
   ]
  },
  {
   "cell_type": "code",
   "execution_count": 9,
   "metadata": {},
   "outputs": [
    {
     "name": "stdout",
     "output_type": "stream",
     "text": [
      "a: 1\n",
      "b: 2\n",
      "c: 3\n"
     ]
    }
   ],
   "source": [
    "def use_keyward_arg_unpacks(**params):\n",
    "    for k in params.keys():\n",
    "        print(\"{}: {}\".format(k, params[k]))\n",
    "        \n",
    "use_keyward_arg_unpacks(a=1, b=2, c=3)"
   ]
  },
  {
   "cell_type": "markdown",
   "metadata": {},
   "source": [
    "---\n",
    "# 5. 기본값을 갖는 매개변수\n",
    "- 기본값을 가지는 매개변수는 일반 매개변수 앞에 위치할 수 없음"
   ]
  },
  {
   "cell_type": "code",
   "execution_count": 14,
   "metadata": {},
   "outputs": [
    {
     "data": {
      "text/plain": [
       "2"
      ]
     },
     "execution_count": 14,
     "metadata": {},
     "output_type": "execute_result"
    }
   ],
   "source": [
    "def calc(x, y, op=\"+\"):\n",
    "    if op == \"+\":\n",
    "        return x + y\n",
    "    else:\n",
    "        return x - y\n",
    "\n",
    "calc(x=1, y=1)"
   ]
  },
  {
   "cell_type": "code",
   "execution_count": 15,
   "metadata": {},
   "outputs": [
    {
     "ename": "SyntaxError",
     "evalue": "non-default argument follows default argument (<ipython-input-15-bcffffd6294e>, line 1)",
     "output_type": "error",
     "traceback": [
      "\u001b[1;36m  File \u001b[1;32m\"<ipython-input-15-bcffffd6294e>\"\u001b[1;36m, line \u001b[1;32m1\u001b[0m\n\u001b[1;33m    def calc(op=\"+\", x, y):\u001b[0m\n\u001b[1;37m             ^\u001b[0m\n\u001b[1;31mSyntaxError\u001b[0m\u001b[1;31m:\u001b[0m non-default argument follows default argument\n"
     ]
    }
   ],
   "source": [
    "def calc(op=\"+\", x, y):\n",
    "    if op == \"+\":\n",
    "        return x + y\n",
    "    else:\n",
    "        return x - y\n",
    "\n",
    "calc(x=1, y=1)"
   ]
  },
  {
   "cell_type": "markdown",
   "metadata": {},
   "source": [
    "---\n",
    "# 6. 스코프\n",
    "- 지역변수와 전역변수의 이름이 같을 경우 전역 변수가 가려져 접근 못할 수 있음\n",
    "- 만약 전역변수에 접근하고 싶다면 앞에 **global**을 기술하면 됨"
   ]
  },
  {
   "cell_type": "code",
   "execution_count": 16,
   "metadata": {},
   "outputs": [
    {
     "name": "stdout",
     "output_type": "stream",
     "text": [
      "2\n",
      "1\n"
     ]
    }
   ],
   "source": [
    "a = 1\n",
    "\n",
    "def scope():\n",
    "    a = 2\n",
    "    print(a)\n",
    "\n",
    "scope()\n",
    "print(a)"
   ]
  },
  {
   "cell_type": "code",
   "execution_count": 17,
   "metadata": {},
   "outputs": [
    {
     "name": "stdout",
     "output_type": "stream",
     "text": [
      "전역변수 x의 값: 6\n"
     ]
    }
   ],
   "source": [
    "def change_global_var():\n",
    "    global x\n",
    "    x += 1\n",
    "\n",
    "x = 5\n",
    "change_global_var()\n",
    "print(\"전역변수 x의 값: {}\".format(x))"
   ]
  },
  {
   "cell_type": "markdown",
   "metadata": {},
   "source": [
    "---\n",
    "# 7. 매개변수에 함수 전달하기\n",
    "- 프로그램의 유연성을 높이기 위해 함수를 매개변수로 전달하는 방식 선호\n",
    "- 하지만 매번 함수를 선언해 사용하는 것이 불편할 수 있음"
   ]
  },
  {
   "cell_type": "code",
   "execution_count": 19,
   "metadata": {},
   "outputs": [
    {
     "name": "stdout",
     "output_type": "stream",
     "text": [
      "15\n",
      "5\n"
     ]
    }
   ],
   "source": [
    "def calc(op_fn, x, y):\n",
    "    return op_fn(x, y)\n",
    "\n",
    "def plus(x, y):\n",
    "    return x + y\n",
    "\n",
    "def minus(x, y):\n",
    "    return x - y\n",
    "\n",
    "x, y = 10, 5\n",
    "ret_val = calc(plus, x, y)\n",
    "print(ret_val)\n",
    "\n",
    "ret_val = calc(minus, x, y)\n",
    "print(ret_val)"
   ]
  },
  {
   "cell_type": "markdown",
   "metadata": {},
   "source": [
    "---\n",
    "# 8. 람다식\n",
    ">**lambda 매개변수: 반환값**\n",
    ">- 변수에 저장하여 재사용 가능한 함수처럼 사용 가능함\n",
    ">- 함수의 매개변수에 직접 인자로 전달 가능함"
   ]
  },
  {
   "cell_type": "code",
   "execution_count": 20,
   "metadata": {},
   "outputs": [
    {
     "name": "stdout",
     "output_type": "stream",
     "text": [
      "15\n",
      "5\n"
     ]
    }
   ],
   "source": [
    "def calc(op_fn, x, y):\n",
    "    return op_fn(x, y)\n",
    "\n",
    "x, y = 10, 5\n",
    "ret_val = calc(lambda a, b: a+b, x, y)\n",
    "print(ret_val)\n",
    "\n",
    "ret_val = calc(lambda a, b: a-b, x, y)\n",
    "print(ret_val)"
   ]
  },
  {
   "cell_type": "markdown",
   "metadata": {},
   "source": [
    "---\n",
    "# 9. 클로저\n",
    "- 중첩함수에서 중첩함수를 포함하는 함수의 scope에 접근 가능\n",
    ">중첨함수 자체를 반환값으로 사용하면?\n",
    ">- 정보 은닉 구현 가능\n",
    ">- 전역변수의 남용 방지\n",
    ">- 메서드가 하나밖에 없는 객체를 만드는 것보다 우아한 구현 가능"
   ]
  },
  {
   "cell_type": "code",
   "execution_count": 22,
   "metadata": {},
   "outputs": [
    {
     "name": "stdout",
     "output_type": "stream",
     "text": [
      "make_id() 호출의 결과: 1\n",
      "make_id() 호출의 결과: 2\n",
      "make_id() 호출의 결과: 3\n"
     ]
    }
   ],
   "source": [
    "def outer_func():\n",
    "    id = 0\n",
    "    \n",
    "    def inner_func():\n",
    "        nonlocal id   # 변수 id가 중첩함수인 inner_func 함수의 지역변수가 아니라는 뜻\n",
    "                       # 이는 변수 id 접근 시 outer_func 함수의 스코프에서 찾게 만듦\n",
    "        id += 1\n",
    "        return id\n",
    "    \n",
    "    return inner_func\n",
    "\n",
    "make_id = outer_func()\n",
    "print(\"make_id() 호출의 결과: {}\".format(make_id()))\n",
    "print(\"make_id() 호출의 결과: {}\".format(make_id()))\n",
    "print(\"make_id() 호출의 결과: {}\".format(make_id()))"
   ]
  },
  {
   "cell_type": "markdown",
   "metadata": {},
   "source": [
    "1. 중첩함수 inner_func() 호출\n",
    "2. outer_func() 함수의 지역변수 id의 값 1씩 증가\n",
    "3. 증가된 id 값 반환\n",
    "4. str.format() 함수의 인자로 전달, 변환 문자열 생성\n",
    "5. print()함수를 통해 출력"
   ]
  },
  {
   "cell_type": "code",
   "execution_count": null,
   "metadata": {},
   "outputs": [],
   "source": []
  }
 ],
 "metadata": {
  "kernelspec": {
   "display_name": "Python 3",
   "language": "python",
   "name": "python3"
  },
  "language_info": {
   "codemirror_mode": {
    "name": "ipython",
    "version": 3
   },
   "file_extension": ".py",
   "mimetype": "text/x-python",
   "name": "python",
   "nbconvert_exporter": "python",
   "pygments_lexer": "ipython3",
   "version": "3.8.5"
  }
 },
 "nbformat": 4,
 "nbformat_minor": 4
}
