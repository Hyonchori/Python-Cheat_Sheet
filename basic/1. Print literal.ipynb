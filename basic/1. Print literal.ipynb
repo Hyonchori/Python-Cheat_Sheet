{
 "cells": [
  {
   "cell_type": "markdown",
   "metadata": {},
   "source": [
    "---\n",
    "# 1. 숫자형"
   ]
  },
  {
   "cell_type": "markdown",
   "metadata": {},
   "source": [
    "## - 정수형\n",
    "정수형의 길이는 무제한이며, 메모리가 허용하는 범위까지 사용할 수 있음"
   ]
  },
  {
   "cell_type": "code",
   "execution_count": 7,
   "metadata": {},
   "outputs": [
    {
     "data": {
      "text/plain": [
       "229"
      ]
     },
     "execution_count": 7,
     "metadata": {},
     "output_type": "execute_result"
    }
   ],
   "source": [
    "7   # 양의 정수\n",
    "0   # 영\n",
    "-3  # 음의 정수\n",
    "\n",
    "0o177       # 0o 접두어: 8진수\n",
    "0xdeadbeef  # 0x 접두어: 16진수 \n",
    "0b100110111 # 0b 접두어: 2진수\n",
    "\n",
    "100_000_000_000\n",
    "0b_1110_0101      # 정수형 리터럴 내의 _는 무시됨"
   ]
  },
  {
   "cell_type": "markdown",
   "metadata": {},
   "source": [
    "## - 부동소수점형"
   ]
  },
  {
   "cell_type": "code",
   "execution_count": 8,
   "metadata": {},
   "outputs": [
    {
     "data": {
      "text/plain": [
       "3.141593"
      ]
     },
     "execution_count": 8,
     "metadata": {},
     "output_type": "execute_result"
    }
   ],
   "source": [
    "3.14     # 양의 부동소수점형\n",
    "-2.4     # 음의 부동소수점형\n",
    "\n",
    "10.      # 소수부 생략 가능\n",
    ".001     # 정수부 생략 가능\n",
    "\n",
    "1e100    \n",
    "3.14e-100   # 매우 큰 수, 매우 정밀한 수를 표현하기 위해 지수 표기법 사용 가능\n",
    "\n",
    "3.14_15_93  # 정수형과 마찬가지로 부동소수점 숫자형 내의 _는 무시됨"
   ]
  },
  {
   "cell_type": "markdown",
   "metadata": {},
   "source": [
    "## - 허수형\n",
    "파이썬의 허수형은 j접미사를 사용"
   ]
  },
  {
   "cell_type": "code",
   "execution_count": 9,
   "metadata": {},
   "outputs": [
    {
     "data": {
      "text/plain": [
       "3.141593j"
      ]
     },
     "execution_count": 9,
     "metadata": {},
     "output_type": "execute_result"
    }
   ],
   "source": [
    "3.14j\n",
    "10.j\n",
    "10j\n",
    ".001j\n",
    "1e100j\n",
    "3.14e-10j\n",
    "\n",
    "3.14_15_93j  # 허수형 리터럴 내의 _는 무시됨"
   ]
  },
  {
   "cell_type": "markdown",
   "metadata": {},
   "source": [
    "---\n",
    "# 2. 문자열"
   ]
  },
  {
   "cell_type": "code",
   "execution_count": 11,
   "metadata": {},
   "outputs": [
    {
     "data": {
      "text/plain": [
       "\"'시간의 역사' 남기고 떠난 스티븐 호킹_\""
      ]
     },
     "execution_count": 11,
     "metadata": {},
     "output_type": "execute_result"
    }
   ],
   "source": [
    "\"안녕하세요\"   # 5음절의 문자열, 길이는 5\n",
    "\"5\"            # 1음절의 문자열, 길이는 1\n",
    "\n",
    "'홍길동'\n",
    "'가'\n",
    "\n",
    "\"'시간의 역사' 남기고 떠난 스티븐 호킹_\"  # 큰 따옴표 안에 작은 따옴표, 혹은 작은 따옴표 안에 큰 따옴표 가능\n",
    "\"\\\"시간의 역사\\\" 남기고 떠난 스티븐 호킹_\"\n",
    "'\\'시간의 역사\\' 남기고 떠난 스티븐 호킹_' # 같은 따옴표 안에 써넣으려면 이스케이프 시퀀스와 조합"
   ]
  },
  {
   "cell_type": "markdown",
   "metadata": {},
   "source": [
    "- 같은 따옴표 안에 써넣으려면 **이스케이프 시퀀스 (\\)**와 조합"
   ]
  },
  {
   "cell_type": "code",
   "execution_count": 12,
   "metadata": {},
   "outputs": [
    {
     "data": {
      "text/plain": [
       "'\\n    안녕하세요.\\n    파이썬 프로그래밍을 \\n    시작합니다\\n    '"
      ]
     },
     "execution_count": 12,
     "metadata": {},
     "output_type": "execute_result"
    }
   ],
   "source": [
    "'''\n",
    "    안녕하세요.\n",
    "    파이썬 프로그래밍을 \n",
    "    시작합니다\n",
    "    '''"
   ]
  },
  {
   "cell_type": "markdown",
   "metadata": {},
   "source": [
    "- 여러 줄로 이루어진 문자열을 사용할 땐 **'''** 사용"
   ]
  },
  {
   "cell_type": "markdown",
   "metadata": {},
   "source": [
    "## - 이스케이프 시퀀스\n",
    "**백슬래시(\\) 기호와 조합해서 사용하는 사전에 정의해둔 문자 조합**  \n",
    "문자열의 출력 결과를 제어(보기 좋게)하기 위해 사용함"
   ]
  },
  {
   "cell_type": "code",
   "execution_count": 28,
   "metadata": {},
   "outputs": [
    {
     "name": "stdout",
     "output_type": "stream",
     "text": [
      "백슬래시 : \\\n",
      "작은 따옴표 : '\n",
      "큰 따옴표 : \"\n",
      "줄바꿈 : \n",
      "\n",
      "수평 탭: \t\n"
     ]
    }
   ],
   "source": [
    "print(\"백슬래시 : \\\\\")\n",
    "print(\"작은 따옴표 : \\'\")\n",
    "print(\"큰 따옴표 : \\\"\")\n",
    "print(\"줄바꿈 : \\n\")\n",
    "print(\"수평 탭: \\t\")"
   ]
  },
  {
   "cell_type": "markdown",
   "metadata": {},
   "source": [
    "## - %를 이용한 문자열 포맷팅\n",
    "**문자열 표시 유형(문자열 포맷 코드)을 특정 값으로 변경하는 기법**\n",
    ">**%를 이용한 문자열 포맷팅**\n",
    ">- **%s** : 문자열 포맷\n",
    ">- **%c** : 문자 포맷, 정수를 유니코드 문자로 변환해 출력\n",
    ">- **%d** : 10진수로 출력\n",
    ">- **%o** : 8진수로 출력\n",
    ">- **%x** : 16진수로 출력\n",
    ">- **%f** : 부동소수점 숫자로 출력, 소수점 이하 6자리의 정밀도가 기본\n",
    ">- **%%** : % 문자 자체를 출력"
   ]
  },
  {
   "cell_type": "code",
   "execution_count": 21,
   "metadata": {},
   "outputs": [
    {
     "name": "stdout",
     "output_type": "stream",
     "text": [
      "이름: 홍길동\n",
      "나이: 20 세\n",
      "결혼: False\n",
      "키: 180.5 cm\n",
      "이름: 홍길동\n",
      "나이: 20\n",
      "이름: 홍길동\n",
      "나이: 20 세\n"
     ]
    }
   ],
   "source": [
    "print(\"이름: %s\" % \"홍길동\")\n",
    "print(\"나이: %s 세\" % 20)\n",
    "print(\"결혼: %s\" % False)\n",
    "print(\"키: %s cm\" % 180.5)\n",
    "print(\"이름: %s\\n나이: %s\" % (\"홍길동\", 20))\n",
    "print(\"이름: %(name)s\\n나이: %(age)s 세\" % {\"name\": \"홍길동\", \"age\": 20})"
   ]
  },
  {
   "cell_type": "code",
   "execution_count": 22,
   "metadata": {},
   "outputs": [
    {
     "name": "stdout",
     "output_type": "stream",
     "text": [
      "a => 97\n"
     ]
    }
   ],
   "source": [
    "print(\"%c => %d\" % (97, 97))"
   ]
  },
  {
   "cell_type": "code",
   "execution_count": 23,
   "metadata": {},
   "outputs": [
    {
     "name": "stdout",
     "output_type": "stream",
     "text": [
      "10 12 a\n"
     ]
    }
   ],
   "source": [
    "print(\"%d %o %x\" % (10, 10, 10))"
   ]
  },
  {
   "cell_type": "code",
   "execution_count": 25,
   "metadata": {},
   "outputs": [
    {
     "name": "stdout",
     "output_type": "stream",
     "text": [
      "가 44032 ac00\n"
     ]
    }
   ],
   "source": [
    "print(\"%s %d %x\" % (\"가\", ord(\"가\"), ord(\"가\")))"
   ]
  },
  {
   "cell_type": "code",
   "execution_count": 26,
   "metadata": {},
   "outputs": [
    {
     "name": "stdout",
     "output_type": "stream",
     "text": [
      "3.140000 3\n"
     ]
    }
   ],
   "source": [
    "print(\"%f %d\" % (3.14, 3.14))\n"
   ]
  },
  {
   "cell_type": "code",
   "execution_count": 27,
   "metadata": {},
   "outputs": [
    {
     "name": "stdout",
     "output_type": "stream",
     "text": [
      "98 점은 상위 1%에 속합니다\n"
     ]
    }
   ],
   "source": [
    "print(\"%d 점은 상위 %d%%에 속합니다\" % (98, 1))"
   ]
  },
  {
   "cell_type": "markdown",
   "metadata": {},
   "source": [
    "## - 문자열 출력 폭과 정렬 방향\n"
   ]
  },
  {
   "cell_type": "code",
   "execution_count": 29,
   "metadata": {},
   "outputs": [
    {
     "name": "stdout",
     "output_type": "stream",
     "text": [
      "      우측정렬\n",
      "좌측정렬      \n"
     ]
    }
   ],
   "source": [
    "print(\"%10s\" % \"우측정렬\")   # 문자열의 폭이 10, 정렬의 방향이 우측\n",
    "print(\"%-10s\" % \"좌측정렬\")  # 문자열의 폭이 10, 정렬의 방향이 좌측"
   ]
  },
  {
   "cell_type": "markdown",
   "metadata": {},
   "source": [
    "## - 부동소수점 숫자의 출력 폭 지정, 소숫점 정밀도 표현 적용"
   ]
  },
  {
   "cell_type": "code",
   "execution_count": 42,
   "metadata": {},
   "outputs": [
    {
     "name": "stdout",
     "output_type": "stream",
     "text": [
      "3.14\n",
      "      3.14\n",
      "0000003.14\n"
     ]
    }
   ],
   "source": [
    "print(\"%0.2f\" % 3.141592)   # 부동소수점을 소수점 2자리까지 표시\n",
    "print(\"%10.2f\" % 3.141592)  # 부동소수점을 소수점을 포함한 전체 자리수를 10으로 함\n",
    "print(\"%010.2f\" % 3.141592) # 부동소수점을 소수점을 포함한 전체 자리수를 10으로, 소수점 이하 두 자리까지 표시. 앞에 남은 자리는 0으로 채움"
   ]
  },
  {
   "cell_type": "markdown",
   "metadata": {},
   "source": [
    "---\n",
    "# - str.format() 함수를 이용한 문자열 포맷팅"
   ]
  },
  {
   "cell_type": "code",
   "execution_count": 63,
   "metadata": {},
   "outputs": [
    {
     "name": "stdout",
     "output_type": "stream",
     "text": [
      "이름: 홍길동, 나이: 20세\n",
      "이름: 20, 나이: 홍길동세\n",
      "a => 97\n",
      "가, 44032, ac00\n",
      "3.141592  3.14, 03.142\n",
      "이름: 홍길동, 나이: 20세\n",
      "좌측정렬      \n",
      "      우측정렬\n",
      "   중앙정렬   \n",
      "***중앙정렬***\n",
      "3.14\n",
      "      3.14\n",
      "0000003.14\n",
      "{ 98.500000 }\n"
     ]
    }
   ],
   "source": [
    "print(\"이름: {0}, 나이: {1}세\".format(\"홍길동\", 20))   # {}안에 인덱스에 해당하는 값 표시\n",
    "print(\"이름: {1}, 나이: {0}세\".format(\"홍길동\", 20))\n",
    "\n",
    "\n",
    "print(\"{0:c} => {1}\".format(97, 97))                          \n",
    "print(\"{0}, {1}, {2:x}\".format(\"가\", ord(\"가\"), ord(\"가\")))   # {}내에서 :뒤에 문자열 표시 유형을 지정할 수도 있음\n",
    "\n",
    "\n",
    "print(\"{0:f} {1: .2f}, {2:06.3f}\".format(3.141592, 3.141592, 3.141592))   # 위처럼 부동소수점의 소숫점 정밀도, 출력 폭 표현 가능\n",
    "\n",
    "\n",
    "print(\"이름: {name}, 나이: {age}세\".format(name=\"홍길동\", age=20))  # 인덱스 대신 키 형태로 값을 넣을 수 있음\n",
    "\n",
    "\n",
    "print(\"{0:<10}\".format(\"좌측정렬\"))\n",
    "print(\"{0:>10}\".format(\"우측정렬\"))\n",
    "print(\"{0:^10}\".format(\"중앙정렬\"))   # <, >, ^ 를 이용해 정렬 방향 설정 가능\n",
    "print(\"{0:*^10}\".format(\"중앙정렬\"))  # 공백을 채울 문자를 지정할 수도 있음\n",
    "\n",
    "\n",
    "print(\"{0:0.2f}\".format(3.141592))\n",
    "print(\"{0:10.2f}\".format(3.141592))\n",
    "print(\"{0:010.2f}\".format(3.141592))\n",
    "print(\"{{ {0:1f} }}\".format(98.5))    # 부동소수점 표현 및 대괄포 {} 표현 방법"
   ]
  },
  {
   "cell_type": "markdown",
   "metadata": {},
   "source": [
    "---\n",
    "# 3. 주석 처리"
   ]
  },
  {
   "cell_type": "code",
   "execution_count": 64,
   "metadata": {},
   "outputs": [],
   "source": [
    "#Hello, world!"
   ]
  },
  {
   "cell_type": "code",
   "execution_count": null,
   "metadata": {},
   "outputs": [],
   "source": []
  }
 ],
 "metadata": {
  "kernelspec": {
   "display_name": "Python 3",
   "language": "python",
   "name": "python3"
  },
  "language_info": {
   "codemirror_mode": {
    "name": "ipython",
    "version": 3
   },
   "file_extension": ".py",
   "mimetype": "text/x-python",
   "name": "python",
   "nbconvert_exporter": "python",
   "pygments_lexer": "ipython3",
   "version": "3.8.5"
  }
 },
 "nbformat": 4,
 "nbformat_minor": 4
}
