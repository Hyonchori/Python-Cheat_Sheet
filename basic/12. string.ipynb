{
 "cells": [
  {
   "cell_type": "markdown",
   "metadata": {},
   "source": [
    "# 1. 문자열 연산"
   ]
  },
  {
   "cell_type": "markdown",
   "metadata": {},
   "source": [
    "## 1.1 문자열 연결"
   ]
  },
  {
   "cell_type": "code",
   "execution_count": 1,
   "metadata": {},
   "outputs": [
    {
     "name": "stdout",
     "output_type": "stream",
     "text": [
      "홍길동님, 안녕하세요\n",
      "홍길동님, 안녕하세요\n"
     ]
    }
   ],
   "source": [
    "message = \"안녕하세요\"\n",
    "guest = \"홍길동\"\n",
    "\n",
    "greeting = guest + \"님, \" + message\n",
    "print(greeting)\n",
    "\n",
    "greeting = \"{}님, {}\".format(guest, message)\n",
    "print(greeting)"
   ]
  },
  {
   "cell_type": "markdown",
   "metadata": {},
   "source": [
    "## 1.2 문자열 반복"
   ]
  },
  {
   "cell_type": "code",
   "execution_count": 3,
   "metadata": {},
   "outputs": [
    {
     "name": "stdout",
     "output_type": "stream",
     "text": [
      "========================================\n",
      "------------- 문자열 반복 -------------\n",
      "========================================\n"
     ]
    }
   ],
   "source": [
    "print(\"=\" * 40)\n",
    "print(\"-\" * 13, end='')\n",
    "print(\" 문자열 반복 \", end=\"\")\n",
    "print(\"-\" * 13)\n",
    "print(\"=\" * 40)"
   ]
  },
  {
   "cell_type": "markdown",
   "metadata": {},
   "source": [
    "## 1.3 문자 선택"
   ]
  },
  {
   "cell_type": "code",
   "execution_count": 6,
   "metadata": {},
   "outputs": [
    {
     "name": "stdout",
     "output_type": "stream",
     "text": [
      "0 안\n",
      "1 녕\n",
      "2 하\n",
      "3 세\n",
      "4 요\n",
      "5 .\n",
      "6  \n",
      "7 파\n",
      "8 이\n",
      "9 썬\n",
      "10 입\n",
      "11 니\n",
      "12 다\n",
      "13 .\n",
      "0 .\n",
      "1 다\n",
      "2 니\n",
      "3 입\n",
      "4 썬\n",
      "5 이\n",
      "6 파\n",
      "7  \n",
      "8 .\n",
      "9 요\n",
      "10 세\n",
      "11 하\n",
      "12 녕\n",
      "13 안\n"
     ]
    }
   ],
   "source": [
    "data_str = \"안녕하세요. 파이썬입니다.\"\n",
    "\n",
    "for i, s in enumerate(list(data_str)):\n",
    "    print(i, s)\n",
    "\n",
    "for i, s in enumerate(reversed(list(data_str))):\n",
    "    print(i, s)"
   ]
  },
  {
   "cell_type": "markdown",
   "metadata": {},
   "source": [
    "## 1.4 문자열 범위 선택"
   ]
  },
  {
   "cell_type": "code",
   "execution_count": 15,
   "metadata": {},
   "outputs": [
    {
     "name": "stdout",
     "output_type": "stream",
     "text": [
      "시작 인덱스를 입력하세요: \n",
      "종료 인덱스를 입력하세요: \n",
      "wrong value!\n",
      "와우! 안녕하세요, 파이썬입니다.\n"
     ]
    }
   ],
   "source": [
    "data_str = \"와우! 안녕하세요, 파이썬입니다.\"\n",
    "\n",
    "start = input(\"시작 인덱스를 입력하세요: \")\n",
    "end = input(\"종료 인덱스를 입력하세요: \")\n",
    "\n",
    "try:\n",
    "    start = int(start)\n",
    "    end = int(end)\n",
    "except ValueError:\n",
    "    start = None\n",
    "    end = None\n",
    "    print(\"wrong value!\")\n",
    "\n",
    "print(data_str[start: end])"
   ]
  },
  {
   "cell_type": "markdown",
   "metadata": {},
   "source": [
    "---\n",
    "# 2. 문자열 함수"
   ]
  },
  {
   "cell_type": "markdown",
   "metadata": {},
   "source": [
    "## 2.1 문자열 출현 횟수 확인\n",
    "- **str.count()**"
   ]
  },
  {
   "cell_type": "code",
   "execution_count": 16,
   "metadata": {},
   "outputs": [
    {
     "name": "stdout",
     "output_type": "stream",
     "text": [
      "Have a nice day!\n",
      "위에서 찾고자 하는 문자열을 입력하세요: nice\n",
      "nice는 1번 나타납니다.\n"
     ]
    }
   ],
   "source": [
    "data_str = \"Have a nice day!\"\n",
    "\n",
    "print(data_str)\n",
    "input_str = input(\"위에서 찾고자 하는 문자열을 입력하세요: \")\n",
    "\n",
    "print(\"{}는 {}번 나타납니다.\".format(input_str, data_str.count(input_str)))"
   ]
  },
  {
   "cell_type": "markdown",
   "metadata": {},
   "source": [
    "## 2.2 문자열 길이\n",
    "- **len(str)**"
   ]
  },
  {
   "cell_type": "code",
   "execution_count": 17,
   "metadata": {},
   "outputs": [
    {
     "name": "stdout",
     "output_type": "stream",
     "text": [
      "16\n"
     ]
    }
   ],
   "source": [
    "data_str = \"Have a nice day!\"\n",
    "print(len(data_str))"
   ]
  },
  {
   "cell_type": "markdown",
   "metadata": {},
   "source": [
    "## 2.3 문자열 찾기\n",
    "> **str.find()**\n",
    ">- 문자열의 **처음부터** 탐색 시작\n",
    ">- 찾으면 시작 인덱스 반환, 못 찾으면 -1 반환"
   ]
  },
  {
   "cell_type": "code",
   "execution_count": 19,
   "metadata": {},
   "outputs": [
    {
     "name": "stdout",
     "output_type": "stream",
     "text": [
      "파이썬은 클래스를 이용해 객체를 생성하는 객체지향 프로그래밍 언어입니다.\n",
      "찾고자 하는 문자열을 입력하세요: 객체\n",
      "14\n"
     ]
    }
   ],
   "source": [
    "data_str = \"파이썬은 클래스를 이용해 객체를 생성하는 객체지향 프로그래밍 언어입니다.\"\n",
    "print(data_str)\n",
    "\n",
    "input_str = input(\"찾고자 하는 문자열을 입력하세요: \")\n",
    "idx = data_str.find(input_str)\n",
    "\n",
    "if idx != -1:\n",
    "    print(idx)\n",
    "else:\n",
    "    print(\"{}를 찾을 수 없습니다.\". format(input_str))"
   ]
  },
  {
   "cell_type": "markdown",
   "metadata": {},
   "source": [
    "> **str.rfind()**\n",
    ">- 문자열의 **끝에서부터** 탐색 시작\n",
    ">- 찾으면 시작 인덱스 반환, 못 찾으면 -1 반환"
   ]
  },
  {
   "cell_type": "code",
   "execution_count": 21,
   "metadata": {},
   "outputs": [
    {
     "name": "stdout",
     "output_type": "stream",
     "text": [
      "파이썬은 클래스를 이용해 객체를 생성하는 객체지향 프로그래밍 언어입니다.\n",
      "찾고자 하는 문자열을 입력하세요: ㅇ\n",
      "ㅇ를 찾을 수 없습니다.\n"
     ]
    }
   ],
   "source": [
    "data_str = \"파이썬은 클래스를 이용해 객체를 생성하는 객체지향 프로그래밍 언어입니다.\"\n",
    "print(data_str)\n",
    "\n",
    "input_str = input(\"찾고자 하는 문자열을 입력하세요: \")\n",
    "idx = data_str.rfind(input_str)\n",
    "\n",
    "if idx != -1:\n",
    "    print(idx)\n",
    "else:\n",
    "    print(\"{}를 찾을 수 없습니다.\". format(input_str))"
   ]
  },
  {
   "cell_type": "markdown",
   "metadata": {},
   "source": [
    ">**str.index()**\n",
    ">- 주어진 문자열의 인덱스 반환\n",
    ">- 문자열을 못 찾을 경우 ValueError 발생"
   ]
  },
  {
   "cell_type": "code",
   "execution_count": 23,
   "metadata": {},
   "outputs": [
    {
     "name": "stdout",
     "output_type": "stream",
     "text": [
      "파이썬은 클래스를 이용해 객체를 생성하는 객체지향 프로그래밍 언어입니다.\n",
      "찾고자 하는 문자열을 입력하세요: 객체\n",
      "14\n"
     ]
    }
   ],
   "source": [
    "trydata_str = \"파이썬은 클래스를 이용해 객체를 생성하는 객체지향 프로그래밍 언어입니다.\"\n",
    "print(data_str)\n",
    "\n",
    "input_str = input(\"찾고자 하는 문자열을 입력하세요: \")\n",
    "try:\n",
    "    idx = data_str.index(input_str)\n",
    "    print(idx)\n",
    "except ValueError:\n",
    "    print(\"{}를 찾을 수 없습니다.\".format(input_str))"
   ]
  },
  {
   "cell_type": "markdown",
   "metadata": {},
   "source": [
    "## 2.4 문자열 삽입\n",
    "> **str.join()**\n",
    ">- 해당 str을 입력 문자열 사이사이에 삽입한 문자열을 반환"
   ]
  },
  {
   "cell_type": "code",
   "execution_count": 24,
   "metadata": {},
   "outputs": [
    {
     "name": "stdout",
     "output_type": "stream",
     "text": [
      "가, 나, 다, 라, 마, 바, 사, 아, 자, 차, 카, 타, 파, 하\n"
     ]
    }
   ],
   "source": [
    "data_str = \"가나다라마바사아자차카타파하\"\n",
    "comma_space = \", \"\n",
    "print(comma_space.join(data_str))"
   ]
  },
  {
   "cell_type": "markdown",
   "metadata": {},
   "source": [
    "## 2.5 대소문자 변환"
   ]
  },
  {
   "cell_type": "code",
   "execution_count": 26,
   "metadata": {},
   "outputs": [
    {
     "name": "stdout",
     "output_type": "stream",
     "text": [
      "Better tommorow\n",
      "better tommorow\n",
      "BETTER TOMMOROW\n"
     ]
    }
   ],
   "source": [
    "data_str = \"better tommorow\"\n",
    "print(data_str.capitalize())  # 첫 글자만 대문자로\n",
    "print(data_str.lower())       # 모든 글자를 소문자로\n",
    "print(data_str.upper())       # 모든 글자를 대문자로"
   ]
  },
  {
   "cell_type": "markdown",
   "metadata": {},
   "source": [
    "## 2.6 문자열 제거\n",
    "- **str.lstrip()** : 인자로 전달된 문자열을 왼쪽에서 제거\n",
    "- **str.rstrip()** : 인자로 전달된 문자열을 오른쪽에서 제거\n",
    "- **str.strip()** : 인자로 전달된 문자열을 양쪽에서 제거"
   ]
  },
  {
   "cell_type": "code",
   "execution_count": 29,
   "metadata": {},
   "outputs": [
    {
     "name": "stdout",
     "output_type": "stream",
     "text": [
      "Py thon    \n",
      "   Py thon\n",
      "Py thon\n"
     ]
    }
   ],
   "source": [
    "data_str = \"   Py thon    \"\n",
    "print(data_str.lstrip(\" \"))     # 왼쪽 공백 제거\n",
    "print(data_str.rstrip(\" \"))     # 오른쪽 공백 제거   \n",
    "print(data_str.strip(\" \"))      # 양쪽 공백 제거"
   ]
  },
  {
   "cell_type": "code",
   "execution_count": 31,
   "metadata": {},
   "outputs": [
    {
     "name": "stdout",
     "output_type": "stream",
     "text": [
      "Py thon______ \n",
      "___Py thon\n",
      "Py thon\n"
     ]
    }
   ],
   "source": [
    "data_str = \"___Py thon______ \"\n",
    "print(data_str.lstrip(\"_\"))\n",
    "print(data_str.rstrip(\"_ \"))\n",
    "print(data_str.strip(\"_ \"))"
   ]
  },
  {
   "cell_type": "code",
   "execution_count": 34,
   "metadata": {},
   "outputs": [
    {
     "name": "stdout",
     "output_type": "stream",
     "text": [
      "Py thon _$@#   \n",
      "__ ?0 Py thon\n",
      "Py thon\n"
     ]
    }
   ],
   "source": [
    "data_str = \"__ ?0 Py thon _$@#   \"\n",
    "print(data_str.lstrip(\" 0?_#@$\"))\n",
    "print(data_str.rstrip(\" 0?_#@$\"))\n",
    "print(data_str.strip(\" 0?_#@$\"))"
   ]
  },
  {
   "cell_type": "markdown",
   "metadata": {},
   "source": [
    "## 2.7 문자열 교체\n",
    "> **str.replace()**\n",
    ">- replace(찾을 문자열, 교체 문자열, 횟수)\n",
    ">- 찾을 문자열과 교체 문자열을 인자로 사용해 교체"
   ]
  },
  {
   "cell_type": "code",
   "execution_count": 41,
   "metadata": {},
   "outputs": [
    {
     "name": "stdout",
     "output_type": "stream",
     "text": [
      "10\t20\t30\t40\t50\n",
      "10\t20\t30....40....50\n",
      "1020304050\n"
     ]
    }
   ],
   "source": [
    "data_str = \"10....20....30....40....50\"\n",
    "print(data_str.replace(\"....\", \"\\t\"))\n",
    "print(data_str.replace(\"....\", \"\\t\", 2))\n",
    "print(data_str.replace(\"....\", \"\",))"
   ]
  },
  {
   "cell_type": "markdown",
   "metadata": {},
   "source": [
    "## 2.8 문자열 자르기\n",
    ">**str.split()**\n",
    ">- 인자로 전달된 문자열을 기준으로 나누는 리스트 객체 생성"
   ]
  },
  {
   "cell_type": "code",
   "execution_count": 42,
   "metadata": {},
   "outputs": [
    {
     "name": "stdout",
     "output_type": "stream",
     "text": [
      "['10', '20', '30', '40', '50']\n"
     ]
    }
   ],
   "source": [
    "data_str = \"10, 20, 30, 40, 50\"\n",
    "data_str = data_str.replace(\" \", \"\")\n",
    "data_list = data_str.split(\",\")\n",
    "print(data_list)"
   ]
  },
  {
   "cell_type": "markdown",
   "metadata": {},
   "source": [
    "## 2.9 문자열 구성 확인\n",
    "- **str.isdigit()** : 숫자로만 구성된 문자열인지 True/False 반환\n",
    "- **str.isalpha()** : 알파벳으로만 구성된 문자열인지 True/False 반환\n",
    "- **str.isalnum()** : 숫자, 알파벳으로만 구성된 문자열인지 True/False 반환"
   ]
  },
  {
   "cell_type": "code",
   "execution_count": null,
   "metadata": {},
   "outputs": [],
   "source": []
  }
 ],
 "metadata": {
  "kernelspec": {
   "display_name": "Python 3",
   "language": "python",
   "name": "python3"
  },
  "language_info": {
   "codemirror_mode": {
    "name": "ipython",
    "version": 3
   },
   "file_extension": ".py",
   "mimetype": "text/x-python",
   "name": "python",
   "nbconvert_exporter": "python",
   "pygments_lexer": "ipython3",
   "version": "3.8.5"
  }
 },
 "nbformat": 4,
 "nbformat_minor": 4
}
