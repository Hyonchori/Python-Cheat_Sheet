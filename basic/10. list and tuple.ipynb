{
 "cells": [
  {
   "cell_type": "markdown",
   "metadata": {},
   "source": [
    "# 시퀀스형 데이터\n",
    "- 데이터에 대해 순서를 가진 자료구조 총칭\n",
    "- **리스트, 튜플** 을 가리킴"
   ]
  },
  {
   "cell_type": "markdown",
   "metadata": {},
   "source": [
    "--- \n",
    "# 1. 리스트\n",
    "- 대괄호[] 안에 서로 다른 자료형의 값을 콤마로 구분\n",
    "- 하나 이상의 값을 저장할 수 있는 컬렉션 자료형"
   ]
  },
  {
   "cell_type": "code",
   "execution_count": 2,
   "metadata": {},
   "outputs": [
    {
     "name": "stdout",
     "output_type": "stream",
     "text": [
      "[10, 21.5, 'python', True]\n",
      "[10, 12, 14, 16, 18, 20]\n",
      "['안', '녕', '하', '세', '요']\n"
     ]
    }
   ],
   "source": [
    "lst = [10, 21.5, \"python\", True]\n",
    "print(lst)\n",
    "\n",
    "lst = list(range(10, 21, 2))\n",
    "print(lst)\n",
    "\n",
    "lst = list(\"안녕하세요\")\n",
    "print(lst)"
   ]
  },
  {
   "cell_type": "markdown",
   "metadata": {},
   "source": [
    "## 1.1 리스트 항목 접근\n",
    "- 각 항목은 **인덱스를 이용해 접근**"
   ]
  },
  {
   "cell_type": "code",
   "execution_count": 16,
   "metadata": {},
   "outputs": [
    {
     "name": "stdout",
     "output_type": "stream",
     "text": [
      "10 20 30 40 50\n",
      "50 40 30 20 10\n",
      "[30, 40, 50]\n",
      "[30]\n",
      "[10, 20, 30, 40, 50]\n",
      "[50, 40, 30, 20, 10]\n",
      "[10, 30, 50]\n",
      "[50, 30, 10]\n"
     ]
    }
   ],
   "source": [
    "lst = [10, 20, 30, 40, 50]\n",
    "print(lst[0], lst[1], lst[2], lst[3], lst[4])\n",
    "print(lst[-1], lst[-2], lst[-3], lst[-4], lst[-5])\n",
    "\n",
    "print(lst[2: 5])       # 슬라이싱\n",
    "print(lst[2:3])        # 슬라이싱으로 요소 하나만 추출\n",
    "\n",
    "print(lst[:])       # 슬라이싱으로 전체 리스트 반환\n",
    "print(lst[::-1])    # 슬라이싱 방법 중 리스트의 순서를 뒤집는 방법\n",
    "\n",
    "print(lst[::2])     # 전체 리스트를 인덱스 간격 2로 반환\n",
    "print(lst[::-2])    # 뒤집은 리스트를 인덱스 간격 2로 반환"
   ]
  },
  {
   "cell_type": "markdown",
   "metadata": {},
   "source": [
    "## 1.2 리스트 기본 연산"
   ]
  },
  {
   "cell_type": "code",
   "execution_count": 12,
   "metadata": {},
   "outputs": [
    {
     "name": "stdout",
     "output_type": "stream",
     "text": [
      "0x2a72e66b100 0x2a72e66b4c0\n",
      "0x2a72e66b180\n",
      "[10, 20, 30, 10, 20, 30, 10, 20, 30]\n",
      "[40, 50, 40, 50]\n"
     ]
    }
   ],
   "source": [
    "lst1 = [10, 20, 30]\n",
    "lst2 = [40, 50]\n",
    "\n",
    "print(hex(id(lst1)), hex(id(lst2)))\n",
    "print(hex(id(lst1+lst2)))             # 앞 리스트에 뒤 리스트를 갖다 붙이는 법\n",
    "\n",
    "print(lst1 * 3)\n",
    "print(lst2 * 2)   # 리스트에 곱연산하여 일정 횟수 반복"
   ]
  },
  {
   "cell_type": "markdown",
   "metadata": {},
   "source": [
    "## 1.3 리스트 항목 추가"
   ]
  },
  {
   "cell_type": "code",
   "execution_count": 21,
   "metadata": {},
   "outputs": [
    {
     "name": "stdout",
     "output_type": "stream",
     "text": [
      "[10, 20, 30, 40, 50]\n",
      "[0, 10, 20, 30, 50, 40]\n",
      "[10, 20, 30, 40, 70, 80, [90, 100]]\n"
     ]
    }
   ],
   "source": [
    "lst = [10, 20, 30, 40]\n",
    "lst.append(50)\n",
    "print(lst)\n",
    "\n",
    "lst = [10, 20, 30, 40]\n",
    "lst.insert(0, 0)\n",
    "lst.insert(-1, 50)\n",
    "print(lst)\n",
    "\n",
    "lst = [10, 20, 30, 40]\n",
    "lst.extend([70, 80])    # = [10, 20, 30, 40] + [70, 80]\n",
    "lst.append([90, 100])   # append는 항목의 타입 상관없이 다 가능\n",
    "print(lst)"
   ]
  },
  {
   "cell_type": "markdown",
   "metadata": {},
   "source": [
    "## 1.4 리스트 항목 변경\n"
   ]
  },
  {
   "cell_type": "code",
   "execution_count": 25,
   "metadata": {},
   "outputs": [
    {
     "name": "stdout",
     "output_type": "stream",
     "text": [
      "[10, 20, 29, 40]\n",
      "[10, 12, 15, 40]\n",
      "[10, 12, 40]\n",
      "[10, 20, 31, 25, 40]\n"
     ]
    }
   ],
   "source": [
    "lst = [10, 20, 30, 40]\n",
    "lst[2] = 29\n",
    "print(lst)\n",
    "\n",
    "lst = [10, 20, 30, 40]\n",
    "lst[1: 3] = [12, 15]\n",
    "print(lst)\n",
    "\n",
    "lst = [10, 20, 30, 40]\n",
    "lst[1: 3] = [12]        # 슬라이싱으로 바꿀 때는 무조건 리스트여야 함\n",
    "print(lst)\n",
    "\n",
    "lst = [10, 20, 30, 40]\n",
    "lst[2: 3] = [31, 25]       \n",
    "print(lst)"
   ]
  },
  {
   "cell_type": "markdown",
   "metadata": {},
   "source": [
    "## 1.5 리스트 항목 제거\n"
   ]
  },
  {
   "cell_type": "code",
   "execution_count": 29,
   "metadata": {},
   "outputs": [
    {
     "name": "stdout",
     "output_type": "stream",
     "text": [
      "[0, 10, 30, 40, 50, 60, 70, 80, 90]\n",
      "[0, 10, 20, 50, 60, 70, 80, 90]\n",
      "[]\n",
      "[]\n"
     ]
    }
   ],
   "source": [
    "lst = list(range(0, 100, 10))\n",
    "del lst[2]\n",
    "print(lst)\n",
    "\n",
    "lst = list(range(0, 100, 10))\n",
    "del lst[3: 5]\n",
    "print(lst)\n",
    "\n",
    "lst = list(range(0, 100, 10))\n",
    "del lst[:]                        # lst = []\n",
    "print(lst)\n",
    "\n",
    "lst = list(range(0, 100, 10))\n",
    "lst.clear()                       # lst = []\n",
    "print(lst)"
   ]
  },
  {
   "cell_type": "markdown",
   "metadata": {},
   "source": [
    "## 1.6 리스트 항목 확인\n",
    "- 항목값 in 리스트객체"
   ]
  },
  {
   "cell_type": "code",
   "execution_count": 31,
   "metadata": {},
   "outputs": [
    {
     "name": "stdout",
     "output_type": "stream",
     "text": [
      "True\n",
      "False\n",
      "3\n",
      "0\n"
     ]
    }
   ],
   "source": [
    "lst = [10, 20, 30, 50, 50, 50, 60, 70, 80]\n",
    "\n",
    "print(50 in lst)\n",
    "print(50 not in lst)   # 개별 항목 존재 여부 확인\n",
    "\n",
    "print(lst.count(50))    # 개별 항목이 존재한다면 카운트\n",
    "print(lst.count(55))"
   ]
  },
  {
   "cell_type": "markdown",
   "metadata": {},
   "source": [
    "## 1.7 리스트와 for 문"
   ]
  },
  {
   "cell_type": "code",
   "execution_count": 33,
   "metadata": {},
   "outputs": [
    {
     "name": "stdout",
     "output_type": "stream",
     "text": [
      "0: 0\n",
      "1: 2\n",
      "2: 4\n",
      "3: 6\n",
      "4: 8\n",
      "5: 10\n"
     ]
    }
   ],
   "source": [
    "lst = list(range(0, 11, 2))\n",
    "\n",
    "for i, item in enumerate(lst):\n",
    "    print(\"{}: {}\".format(i, item))"
   ]
  },
  {
   "cell_type": "markdown",
   "metadata": {},
   "source": [
    "## 1.8 리스트 내포 (comprehension)\n",
    "- 기존 for문을 이용한 반복을 리스트 내부에서 구현할 수 있음\n",
    "- 코드를 훨씬 짧고 효율적으로 만들 수 있음"
   ]
  },
  {
   "cell_type": "code",
   "execution_count": 3,
   "metadata": {},
   "outputs": [
    {
     "data": {
      "text/plain": [
       "[[[0, 1, 2], [0, 1, 2], [0, 1, 2]],\n",
       " [[0, 1, 2], [0, 1, 2], [0, 1, 2]],\n",
       " [[0, 1, 2], [0, 1, 2], [0, 1, 2]]]"
      ]
     },
     "execution_count": 3,
     "metadata": {},
     "output_type": "execute_result"
    }
   ],
   "source": [
    "array = [[[c for c in range(3)] \n",
    "          for y in range(3)] \n",
    "         for x in range(3)]\n",
    "\n",
    "array"
   ]
  },
  {
   "cell_type": "markdown",
   "metadata": {},
   "source": [
    "---\n",
    "# 2. 튜플\n",
    "- 중괄호()안에 서로 다른 자료형의 값을 콤마로 구분\n",
    "- 개별 항목은 0부터 시작하는 인덱스를 이용해 접근\n",
    "- **저장된 항목 변경 불가**\n",
    "- 항목 변경을 제외한 나머지는 리스트와 거의 동일"
   ]
  },
  {
   "cell_type": "code",
   "execution_count": 15,
   "metadata": {},
   "outputs": [
    {
     "name": "stdout",
     "output_type": "stream",
     "text": [
      "(10, 21.5, 'python', True)\n",
      "(10, 12, 14, 16, 18, 20)\n",
      "('안', '녕', '하', '세', '요')\n"
     ]
    }
   ],
   "source": [
    "data = (10, 21.5, \"python\", True)\n",
    "print(data)\n",
    "\n",
    "data = tuple(range(10, 21, 2))\n",
    "print(data)\n",
    "\n",
    "data = tuple(\"안녕하세요\")\n",
    "print(data)"
   ]
  },
  {
   "cell_type": "code",
   "execution_count": null,
   "metadata": {},
   "outputs": [],
   "source": []
  }
 ],
 "metadata": {
  "kernelspec": {
   "display_name": "Python 3",
   "language": "python",
   "name": "python3"
  },
  "language_info": {
   "codemirror_mode": {
    "name": "ipython",
    "version": 3
   },
   "file_extension": ".py",
   "mimetype": "text/x-python",
   "name": "python",
   "nbconvert_exporter": "python",
   "pygments_lexer": "ipython3",
   "version": "3.8.5"
  }
 },
 "nbformat": 4,
 "nbformat_minor": 4
}
