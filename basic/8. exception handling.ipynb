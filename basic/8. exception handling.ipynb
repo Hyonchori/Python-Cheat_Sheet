{
 "cells": [
  {
   "cell_type": "markdown",
   "metadata": {},
   "source": [
    "---\n",
    "# 1. 구문 오류\n",
    "- **SyntaxError**\n",
    "- **잘못된 명령을 입력**해 발생\n",
    "- 코드 작성 중 **문법적인 문제**에 의해 주로 발생"
   ]
  },
  {
   "cell_type": "code",
   "execution_count": 1,
   "metadata": {},
   "outputs": [
    {
     "ename": "SyntaxError",
     "evalue": "EOL while scanning string literal (<ipython-input-1-def13060bb05>, line 1)",
     "output_type": "error",
     "traceback": [
      "\u001b[1;36m  File \u001b[1;32m\"<ipython-input-1-def13060bb05>\"\u001b[1;36m, line \u001b[1;32m1\u001b[0m\n\u001b[1;33m    print(\"구문오류 발생)\u001b[0m\n\u001b[1;37m                   ^\u001b[0m\n\u001b[1;31mSyntaxError\u001b[0m\u001b[1;31m:\u001b[0m EOL while scanning string literal\n"
     ]
    }
   ],
   "source": [
    "print(\"구문오류 발생)"
   ]
  },
  {
   "cell_type": "markdown",
   "metadata": {},
   "source": [
    "---\n",
    "# 2. 예외\n",
    "- 문법적인 문제는 없지만\n",
    "- **실행 중에 예기치 않게** 발생"
   ]
  },
  {
   "cell_type": "code",
   "execution_count": 2,
   "metadata": {},
   "outputs": [
    {
     "ename": "IndexError",
     "evalue": "list index out of range",
     "output_type": "error",
     "traceback": [
      "\u001b[1;31m---------------------------------------------------------------------------\u001b[0m",
      "\u001b[1;31mIndexError\u001b[0m                                Traceback (most recent call last)",
      "\u001b[1;32m<ipython-input-2-b87412eb6876>\u001b[0m in \u001b[0;36m<module>\u001b[1;34m\u001b[0m\n\u001b[0;32m      1\u001b[0m \u001b[0mlst\u001b[0m \u001b[1;33m=\u001b[0m \u001b[1;33m[\u001b[0m\u001b[1;36m1\u001b[0m\u001b[1;33m,\u001b[0m \u001b[1;36m2\u001b[0m\u001b[1;33m,\u001b[0m \u001b[1;36m3\u001b[0m\u001b[1;33m]\u001b[0m\u001b[1;33m\u001b[0m\u001b[1;33m\u001b[0m\u001b[0m\n\u001b[1;32m----> 2\u001b[1;33m \u001b[0mprint\u001b[0m\u001b[1;33m(\u001b[0m\u001b[0mlst\u001b[0m\u001b[1;33m[\u001b[0m\u001b[1;36m3\u001b[0m\u001b[1;33m]\u001b[0m\u001b[1;33m)\u001b[0m\u001b[1;33m\u001b[0m\u001b[1;33m\u001b[0m\u001b[0m\n\u001b[0m",
      "\u001b[1;31mIndexError\u001b[0m: list index out of range"
     ]
    }
   ],
   "source": [
    "lst = [1, 2, 3]\n",
    "print(lst[3])"
   ]
  },
  {
   "cell_type": "markdown",
   "metadata": {},
   "source": [
    "---\n",
    "# 3. 예외 처리 방법"
   ]
  },
  {
   "cell_type": "markdown",
   "metadata": {},
   "source": [
    "## try~ except~ else~ finally 문\n",
    ">**try**\n",
    ">실행하고 싶은 본문\n",
    "\n",
    ">**except**\n",
    ">try문에서 예외 발생시 실행할 부분\n",
    "\n",
    ">**else**\n",
    ">try문에서 예외가 발생 안하면 실행할 부분\n",
    "\n",
    ">**finally**\n",
    ">위 부분과 상관없이 마지막에 무조건 실행할 부분"
   ]
  },
  {
   "cell_type": "code",
   "execution_count": 5,
   "metadata": {},
   "outputs": [
    {
     "name": "stdout",
     "output_type": "stream",
     "text": [
      "높이를 입력하세요: 10\n",
      "너비를 입력하세요: 10ㅐ\n",
      "숫자가 아닌 값이 입력되었습니다.\n",
      "예외 발생 여부에 상관없이 실행\n"
     ]
    }
   ],
   "source": [
    "height = input(\"높이를 입력하세요: \")\n",
    "width = input(\"너비를 입력하세요: \")\n",
    "area = 0\n",
    "\n",
    "try:\n",
    "    area = int(width) * int(height)\n",
    "except:\n",
    "    print(\"숫자가 아닌 값이 입력되었습니다.\")\n",
    "else:\n",
    "    print(\"{} x {} = {}\".format(height, width, area))\n",
    "finally:\n",
    "    print(\"예외 발생 여부에 상관없이 실행\")"
   ]
  },
  {
   "cell_type": "markdown",
   "metadata": {},
   "source": [
    "---\n",
    "# 4. 예외 객체\n",
    "- 코드를 실행 중 오류가 발생하면 만들어짐\n",
    "- **오류 발생과 관련한 정보를 갖고 있음**"
   ]
  },
  {
   "cell_type": "markdown",
   "metadata": {},
   "source": [
    "## 4.1 예외 객체 참조\n",
    "- 예외는 **Exception** 객체에 담김"
   ]
  },
  {
   "cell_type": "code",
   "execution_count": 6,
   "metadata": {},
   "outputs": [
    {
     "name": "stdout",
     "output_type": "stream",
     "text": [
      "높이를 입력하세요: 1\n",
      "너비를 입력하세요: 12d\n",
      "<class 'ValueError'>: invalid literal for int() with base 10: '12d'\n",
      "예외 발생 여부에 상관없이 실행\n"
     ]
    }
   ],
   "source": [
    "height = input(\"높이를 입력하세요: \")\n",
    "width = input(\"너비를 입력하세요: \")\n",
    "area = 0\n",
    "\n",
    "try:\n",
    "    area = int(width) * int(height)\n",
    "except Exception as ex:\n",
    "    print(\"{}: {}\".format(type(ex), ex))\n",
    "else:\n",
    "    print(\"{} x {} = {}\".format(height, width, area))\n",
    "finally:\n",
    "    print(\"예외 발생 여부에 상관없이 실행\")"
   ]
  },
  {
   "cell_type": "markdown",
   "metadata": {},
   "source": [
    "## 4.2 다중 except문을 이용한 예외 처리 분기"
   ]
  },
  {
   "cell_type": "code",
   "execution_count": 7,
   "metadata": {},
   "outputs": [
    {
     "name": "stdout",
     "output_type": "stream",
     "text": [
      "피제수 입력: 1\n",
      "제수 입력: 0\n",
      "제수로 0을 사용할 수 없음\n",
      "<class 'ZeroDivisionError'>: division by zero\n",
      "예외 발생 여부에 상관없이 실행\n"
     ]
    }
   ],
   "source": [
    "x, y, result = 0, 0, 0\n",
    "\n",
    "try:\n",
    "    x = int(input(\"피제수 입력: \"))\n",
    "    y = int(input(\"제수 입력: \"))\n",
    "    result = x / y\n",
    "    \n",
    "except ValueError as ve:\n",
    "    print(\"입력값은 반드시 숫자를 사용\")\n",
    "    print(\"{}: {}\".format(type(ve), ve))\n",
    "\n",
    "except ZeroDivisionError as ze:\n",
    "    print(\"제수로 0을 사용할 수 없음\")\n",
    "    print(\"{}: {}\".format(type(ze), ze))\n",
    "    \n",
    "else:\n",
    "    print(\"{} / {} = {}\".format(x, y, result))\n",
    "    \n",
    "finally:\n",
    "    print(\"예외 발생 여부에 상관없이 실행\")"
   ]
  },
  {
   "cell_type": "markdown",
   "metadata": {},
   "source": [
    "---\n",
    "# 5. 강제로 예외 발생시키기"
   ]
  },
  {
   "cell_type": "markdown",
   "metadata": {},
   "source": [
    "## 5.1 raise 문을 이용한 강제 예외 발생"
   ]
  },
  {
   "cell_type": "code",
   "execution_count": 8,
   "metadata": {},
   "outputs": [],
   "source": [
    "def calc_area(w, h):\n",
    "    if w.isdigit() and h.isdigit():\n",
    "        return int(w) * int(h)\n",
    "    else:\n",
    "        raise ValueError(\"숫자가 아닌 값이 입력되었습니다.\")"
   ]
  },
  {
   "cell_type": "code",
   "execution_count": null,
   "metadata": {},
   "outputs": [],
   "source": []
  }
 ],
 "metadata": {
  "kernelspec": {
   "display_name": "Python 3",
   "language": "python",
   "name": "python3"
  },
  "language_info": {
   "codemirror_mode": {
    "name": "ipython",
    "version": 3
   },
   "file_extension": ".py",
   "mimetype": "text/x-python",
   "name": "python",
   "nbconvert_exporter": "python",
   "pygments_lexer": "ipython3",
   "version": "3.8.5"
  }
 },
 "nbformat": 4,
 "nbformat_minor": 4
}
