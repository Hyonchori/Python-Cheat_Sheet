{
 "cells": [
  {
   "cell_type": "markdown",
   "metadata": {},
   "source": [
    "---\n",
    "# 1. 수치 연산 함수"
   ]
  },
  {
   "cell_type": "markdown",
   "metadata": {},
   "source": [
    "## 1.1 abs()\n",
    "- 인자로 숫자를 전달하면 **그 숫자의 절대값을 반환**하는 함수"
   ]
  },
  {
   "cell_type": "code",
   "execution_count": 1,
   "metadata": {},
   "outputs": [
    {
     "name": "stdout",
     "output_type": "stream",
     "text": [
      "3.14\n"
     ]
    }
   ],
   "source": [
    "val = -3.14\n",
    "print(abs(val))"
   ]
  },
  {
   "cell_type": "markdown",
   "metadata": {},
   "source": [
    "## 1.2 divmod()\n",
    "- 첫 번째 인자를 두 번째 인자로 나눴을 때\n",
    "- **몫, 나머지를 튜플 객체로 반환**하는 함수"
   ]
  },
  {
   "cell_type": "code",
   "execution_count": 1,
   "metadata": {},
   "outputs": [
    {
     "name": "stdout",
     "output_type": "stream",
     "text": [
      "(1, 4)\n"
     ]
    }
   ],
   "source": [
    "val1, val2 = 9, 5\n",
    "result = divmod(val1, val2)\n",
    "print(result)"
   ]
  },
  {
   "cell_type": "markdown",
   "metadata": {},
   "source": [
    "## 1.3 pow()\n",
    "- 첫 번째 인자 값을 두 번째 인자 값으로 **제곱한** 결과를 반환"
   ]
  },
  {
   "cell_type": "code",
   "execution_count": 3,
   "metadata": {},
   "outputs": [
    {
     "name": "stdout",
     "output_type": "stream",
     "text": [
      "[1, 4, 9, 16, 25]\n"
     ]
    }
   ],
   "source": [
    "lst = [1, 2, 3, 4, 5]\n",
    "print(\"{}\".format(list(map(lambda x: pow(x, 2), lst))))"
   ]
  },
  {
   "cell_type": "markdown",
   "metadata": {},
   "source": [
    "---\n",
    "# 2. 시퀀스형 자료형을 다루는 함수"
   ]
  },
  {
   "cell_type": "markdown",
   "metadata": {},
   "source": [
    "## 2.1 all()\n",
    "- list, tuple, set, dictionary, 문자열 등을 인자로 전달\n",
    "- **항목 모두가 True로 평가되면 True 반환**\n",
    "- **False로 평가되는 항목이 하나라도 있으면 False 반환**"
   ]
  },
  {
   "cell_type": "code",
   "execution_count": 6,
   "metadata": {},
   "outputs": [
    {
     "name": "stdout",
     "output_type": "stream",
     "text": [
      "True\n",
      "True\n"
     ]
    }
   ],
   "source": [
    "val = [True, True, True]\n",
    "print(all(val))\n",
    "\n",
    "val = \"data\"\n",
    "print(all(val))"
   ]
  },
  {
   "cell_type": "code",
   "execution_count": 7,
   "metadata": {},
   "outputs": [
    {
     "name": "stdout",
     "output_type": "stream",
     "text": [
      "False\n",
      "False\n",
      "False\n"
     ]
    }
   ],
   "source": [
    "val = [10, 20, \"\"]\n",
    "print(all(val))\n",
    "\n",
    "val = [10, 20, False]\n",
    "print(all(val))\n",
    "\n",
    "val = [10, 20, None]\n",
    "print(all(val))"
   ]
  },
  {
   "cell_type": "markdown",
   "metadata": {},
   "source": [
    "## 2.2 any()\n",
    "- list, tuple, set, dictionary, 문자열 등을 인자로 전달\n",
    "- **항목 모두가 False로 평가되면 False 반환**\n",
    "- **True로 평가되는 항목이 하나라도 있으면 True 반환**"
   ]
  },
  {
   "cell_type": "code",
   "execution_count": 11,
   "metadata": {},
   "outputs": [
    {
     "name": "stdout",
     "output_type": "stream",
     "text": [
      "True\n",
      "True\n"
     ]
    }
   ],
   "source": [
    "val = [True, True, True]\n",
    "print(any(val))\n",
    "\n",
    "val = \"data\"\n",
    "print(any(val))"
   ]
  },
  {
   "cell_type": "code",
   "execution_count": 10,
   "metadata": {},
   "outputs": [
    {
     "name": "stdout",
     "output_type": "stream",
     "text": [
      "True\n",
      "True\n",
      "True\n"
     ]
    }
   ],
   "source": [
    "val = [10, 20, \"\"]\n",
    "print(any(val))\n",
    "\n",
    "val = [10, 20, False]\n",
    "print(any(val))\n",
    "\n",
    "val = [10, 20, None]\n",
    "print(any(val))"
   ]
  },
  {
   "cell_type": "code",
   "execution_count": 12,
   "metadata": {},
   "outputs": [
    {
     "name": "stdout",
     "output_type": "stream",
     "text": [
      "False\n"
     ]
    }
   ],
   "source": [
    "val = [\"\", None, False]\n",
    "print(any(val))"
   ]
  },
  {
   "cell_type": "markdown",
   "metadata": {},
   "source": [
    "## 2.3 enumerate()\n",
    "- list, tuple, 문자열과 같은 시퀀스형을 입력받음\n",
    "- **인덱스를 포함하는 튜플 객체를 항목으로 구성하는 enumerate 객체 반환**"
   ]
  },
  {
   "cell_type": "code",
   "execution_count": 13,
   "metadata": {},
   "outputs": [
    {
     "name": "stdout",
     "output_type": "stream",
     "text": [
      "0 10\n",
      "1 20\n",
      "2 30\n",
      "3 \n",
      "4 None\n",
      "5 False\n",
      "6 True\n"
     ]
    }
   ],
   "source": [
    "val = [10, 20, 30, \"\", None, False, True]\n",
    "for i, v in enumerate(val):\n",
    "    print(i, v)"
   ]
  },
  {
   "cell_type": "markdown",
   "metadata": {},
   "source": [
    "## 2.4 filter()\n",
    "- **조건에 해당하는 항목을 걸러내는 함수**\n",
    "- 조건식을 True로 만족하는 항목만 남김"
   ]
  },
  {
   "cell_type": "code",
   "execution_count": 14,
   "metadata": {},
   "outputs": [
    {
     "name": "stdout",
     "output_type": "stream",
     "text": [
      "<filter object at 0x0000026317B3CF70>\n",
      "[0, 2, 4, 6, 8]\n"
     ]
    }
   ],
   "source": [
    "nums = list(range(10))\n",
    "result = filter(lambda n: n%2==0, nums)\n",
    "print(result)\n",
    "print(list(result))"
   ]
  },
  {
   "cell_type": "markdown",
   "metadata": {},
   "source": [
    "## 2.5 map()\n",
    "- 두 번째 인자로 시퀀스형 자료형을 받아\n",
    "- **자료형의 각 항목에 대해 첫 번째 인자로 받은 함수를 적용한 결과를 맵 객체로 반환**"
   ]
  },
  {
   "cell_type": "code",
   "execution_count": 16,
   "metadata": {},
   "outputs": [
    {
     "name": "stdout",
     "output_type": "stream",
     "text": [
      "['A', 'B', 'C', 'D', 'E', 'F', '1', '2', '3']\n"
     ]
    }
   ],
   "source": [
    "lst = list(\"abcdef123\")\n",
    "result = list(map(lambda x: x.upper(), lst))\n",
    "\n",
    "print(result)"
   ]
  },
  {
   "cell_type": "markdown",
   "metadata": {},
   "source": [
    "## 2.6 max(), min()\n",
    "- **max()** : 시퀀스 자료형에서 **가장 큰 값 반환**\n",
    "- **min()** : 시퀀스 자료형에서 **가장 작은 값 반환**"
   ]
  },
  {
   "cell_type": "code",
   "execution_count": 19,
   "metadata": {},
   "outputs": [
    {
     "name": "stdout",
     "output_type": "stream",
     "text": [
      "40\n",
      "10\n"
     ]
    }
   ],
   "source": [
    "lst = [10, 20, 30, 40]\n",
    "print(max(lst))\n",
    "print(min(lst))"
   ]
  },
  {
   "cell_type": "code",
   "execution_count": 21,
   "metadata": {},
   "outputs": [
    {
     "name": "stdout",
     "output_type": "stream",
     "text": [
      "n\n",
      "S\n"
     ]
    }
   ],
   "source": [
    "lst = list(\"fknhSdfkjh\")\n",
    "print(max(lst))\n",
    "print(min(lst))"
   ]
  },
  {
   "cell_type": "markdown",
   "metadata": {},
   "source": [
    "## 2.7 range()\n",
    "- 정수형 자료만 입력 가능\n",
    "- **첫 번째 인자** : 시작값 (생략가능, default=0)\n",
    "- **두 번째 인자** : 종료값\n",
    "- **세 번째 인자** : 증감치 (생략가능, default=1)"
   ]
  },
  {
   "cell_type": "code",
   "execution_count": 25,
   "metadata": {},
   "outputs": [
    {
     "name": "stdout",
     "output_type": "stream",
     "text": [
      "[0, 1, 2, 3, 4, 5, 6, 7, 8, 9]\n",
      "[10, 9, 8, 7, 6, 5, 4, 3, 2, 1]\n"
     ]
    }
   ],
   "source": [
    "lst1 = list(range(0, 10, 1))\n",
    "lst2 = list(range(10, 0, -1))\n",
    "print(lst1)\n",
    "print(lst2)"
   ]
  },
  {
   "cell_type": "markdown",
   "metadata": {},
   "source": [
    "## 2.8 sorted()\n",
    "- 시퀀스 자료형을 인자로 받음\n",
    "- **정렬된 리스트를 생성해 반환**"
   ]
  },
  {
   "cell_type": "code",
   "execution_count": 27,
   "metadata": {},
   "outputs": [
    {
     "name": "stdout",
     "output_type": "stream",
     "text": [
      "[2, 3, 4, 6, 11, 12]\n",
      "<list_reverseiterator object at 0x0000026317B3CD30>\n",
      "['d', 'f', 'f', 'h', 'j', 'k', 's']\n",
      "<reversed object at 0x0000026317B3CCD0>\n"
     ]
    }
   ],
   "source": [
    "lst = [3, 6, 12, 2, 4, 11]\n",
    "print(sorted(lst))\n",
    "\n",
    "lst = \"dhfkjsf\"\n",
    "print(sorted(lst))"
   ]
  },
  {
   "cell_type": "markdown",
   "metadata": {},
   "source": [
    "## 2.9 reversed()\n",
    "- 시퀀스 자료형을 인자로 받음\n",
    "- **역으로 정렬한 reversed object 반환**\n",
    "- 리스트로 변환하여 출력하거나 사용 가능"
   ]
  },
  {
   "cell_type": "code",
   "execution_count": 28,
   "metadata": {},
   "outputs": [
    {
     "name": "stdout",
     "output_type": "stream",
     "text": [
      "[11, 4, 2, 12, 6, 3]\n",
      "['f', 's', 'j', 'k', 'f', 'h', 'd']\n"
     ]
    }
   ],
   "source": [
    "lst = [3, 6, 12, 2, 4, 11]\n",
    "print(list(reversed(lst)))\n",
    "\n",
    "lst = \"dhfkjsf\"\n",
    "print(list(reversed(lst)))"
   ]
  },
  {
   "cell_type": "markdown",
   "metadata": {},
   "source": [
    "## 2.10 zip()\n",
    "- 둘 이상의 시퀀스 자료형을 인자로 받음\n",
    "- **동일 인덱스의 항목을 묶어 튜플을 항목으로 구성하는 zip 객체 생성**"
   ]
  },
  {
   "cell_type": "code",
   "execution_count": 29,
   "metadata": {},
   "outputs": [
    {
     "name": "stdout",
     "output_type": "stream",
     "text": [
      "1 3\n",
      "3 2\n",
      "4 1\n"
     ]
    }
   ],
   "source": [
    "lst1 = [1, 3, 4, 5, 6]\n",
    "lst2 = [3, 2, 1]\n",
    "\n",
    "for l1, l2 in zip(lst1, lst2):\n",
    "    print(l1, l2)"
   ]
  },
  {
   "cell_type": "markdown",
   "metadata": {},
   "source": [
    "---\n",
    "# 3. 변환 함수"
   ]
  },
  {
   "cell_type": "markdown",
   "metadata": {},
   "source": [
    "## 3.1 chr(), ord(), hex()\n",
    "- **chr()** : 정수 형태의 유니코드 값을 인자로 받아 해당 코드의 문자를 반환\n",
    "- **ord()** : 문자를 인자로 받아 유니코드 값(10진 정수)을 반환\n",
    "- **hex()** : 10진 정수를 인자로 받아 16진수로 변환된 값을 반환"
   ]
  },
  {
   "cell_type": "code",
   "execution_count": 35,
   "metadata": {},
   "outputs": [
    {
     "name": "stdout",
     "output_type": "stream",
     "text": [
      "가\n",
      "A\n",
      "B\n",
      "C\n",
      "D\n",
      "E\n"
     ]
    }
   ],
   "source": [
    "print(chr(0xac00))\n",
    "for i in range(65, 70):\n",
    "    print(chr(i))"
   ]
  },
  {
   "cell_type": "code",
   "execution_count": 37,
   "metadata": {},
   "outputs": [
    {
     "name": "stdout",
     "output_type": "stream",
     "text": [
      "44032\n",
      "97\n",
      "98\n",
      "99\n",
      "100\n"
     ]
    }
   ],
   "source": [
    "print(ord(\"가\"))\n",
    "for c in [\"a\", \"b\", \"c\", \"d\"]:\n",
    "    print(ord(c))"
   ]
  },
  {
   "cell_type": "markdown",
   "metadata": {},
   "source": [
    "---\n",
    "# 4. 객체 조사를 위한 함수"
   ]
  },
  {
   "cell_type": "markdown",
   "metadata": {},
   "source": [
    "## 4.1 dir()\n",
    "- 인자로 전달된 객체가 갖고 있는 변수, 메서드와 같은\n",
    "- **속성 정보를 리스트 객체로 반환**\n",
    "- 인자 없이 호출하면 **현 지역 스코프에 대한 정보를 리스트 객체로 반환**"
   ]
  },
  {
   "cell_type": "code",
   "execution_count": 38,
   "metadata": {},
   "outputs": [
    {
     "name": "stdout",
     "output_type": "stream",
     "text": [
      "['In', 'Out', '_', '_30', '_31', '_32', '__', '___', '__builtin__', '__builtins__', '__doc__', '__loader__', '__name__', '__package__', '__spec__', '_dh', '_i', '_i1', '_i10', '_i11', '_i12', '_i13', '_i14', '_i15', '_i16', '_i17', '_i18', '_i19', '_i2', '_i20', '_i21', '_i22', '_i23', '_i24', '_i25', '_i26', '_i27', '_i28', '_i29', '_i3', '_i30', '_i31', '_i32', '_i33', '_i34', '_i35', '_i36', '_i37', '_i38', '_i4', '_i5', '_i6', '_i7', '_i8', '_i9', '_ih', '_ii', '_iii', '_oh', 'c', 'exit', 'get_ipython', 'i', 'l1', 'l2', 'lst', 'lst1', 'lst2', 'nums', 'quit', 'result', 'v', 'val', 'val1', 'val2']\n"
     ]
    }
   ],
   "source": [
    "print(dir())"
   ]
  },
  {
   "cell_type": "code",
   "execution_count": 39,
   "metadata": {},
   "outputs": [
    {
     "name": "stdout",
     "output_type": "stream",
     "text": [
      "['__add__', '__class__', '__contains__', '__delattr__', '__dir__', '__doc__', '__eq__', '__format__', '__ge__', '__getattribute__', '__getitem__', '__getnewargs__', '__gt__', '__hash__', '__init__', '__init_subclass__', '__iter__', '__le__', '__len__', '__lt__', '__mod__', '__mul__', '__ne__', '__new__', '__reduce__', '__reduce_ex__', '__repr__', '__rmod__', '__rmul__', '__setattr__', '__sizeof__', '__str__', '__subclasshook__', 'capitalize', 'casefold', 'center', 'count', 'encode', 'endswith', 'expandtabs', 'find', 'format', 'format_map', 'index', 'isalnum', 'isalpha', 'isascii', 'isdecimal', 'isdigit', 'isidentifier', 'islower', 'isnumeric', 'isprintable', 'isspace', 'istitle', 'isupper', 'join', 'ljust', 'lower', 'lstrip', 'maketrans', 'partition', 'replace', 'rfind', 'rindex', 'rjust', 'rpartition', 'rsplit', 'rstrip', 'split', 'splitlines', 'startswith', 'strip', 'swapcase', 'title', 'translate', 'upper', 'zfill']\n"
     ]
    }
   ],
   "source": [
    "print(dir(\"hello, world\"))"
   ]
  },
  {
   "cell_type": "code",
   "execution_count": 40,
   "metadata": {},
   "outputs": [
    {
     "name": "stdout",
     "output_type": "stream",
     "text": [
      "['__add__', '__class__', '__contains__', '__delattr__', '__delitem__', '__dir__', '__doc__', '__eq__', '__format__', '__ge__', '__getattribute__', '__getitem__', '__gt__', '__hash__', '__iadd__', '__imul__', '__init__', '__init_subclass__', '__iter__', '__le__', '__len__', '__lt__', '__mul__', '__ne__', '__new__', '__reduce__', '__reduce_ex__', '__repr__', '__reversed__', '__rmul__', '__setattr__', '__setitem__', '__sizeof__', '__str__', '__subclasshook__', 'append', 'clear', 'copy', 'count', 'extend', 'index', 'insert', 'pop', 'remove', 'reverse', 'sort']\n"
     ]
    }
   ],
   "source": [
    "print(dir([1, 2, 3]))"
   ]
  },
  {
   "cell_type": "markdown",
   "metadata": {},
   "source": [
    "## 4.2 globals()\n",
    "- 현재의 **전역 심볼 테이블을 보여주는 딕셔너리 반환**\n",
    "- 전역변수와 함수, 클래스의 정보 포함"
   ]
  },
  {
   "cell_type": "markdown",
   "metadata": {},
   "source": [
    "## 4.3 locals()\n",
    "- 현재의 **지역 심볼 테이블을 보여주는 딕셔너리 반환**\n",
    "- 매개변수를 포함한 지역변수와 중첩함수의 정보 포함"
   ]
  },
  {
   "cell_type": "code",
   "execution_count": 44,
   "metadata": {},
   "outputs": [],
   "source": [
    "class MyClass:\n",
    "    pass\n",
    "\n",
    "def test_fn(param):\n",
    "    def inner_fn():\n",
    "        pass\n",
    "    val1 = 5\n",
    "    val2 = 8\n",
    "    for item in locals().items():\n",
    "        print(\"\\t{} : {}\".format(item[0], item[1]))"
   ]
  },
  {
   "cell_type": "code",
   "execution_count": 42,
   "metadata": {},
   "outputs": [
    {
     "name": "stdout",
     "output_type": "stream",
     "text": [
      "{'In': ['',\n",
      "        'val1, val2 = 9, 5\\nresult = divmod(val1, val2)\\nprint(result)',\n",
      "        'lst = [1, 2, 3, 4, 5]\\nprint(\"{}\".format(list(map(pow, lst))))',\n",
      "        'lst = [1, 2, 3, 4, 5]\\n'\n",
      "        'print(\"{}\".format(list(map(lambda x: pow(x, 2), lst))))',\n",
      "        'val = [True, True, True]\\n'\n",
      "        'print(all(val))\\n'\n",
      "        '\\n'\n",
      "        'val = \"dafa\"\\n'\n",
      "        'print(all(val))\\n'\n",
      "        '\\n'\n",
      "        'val = \" dfd\"\\n'\n",
      "        'print(all(val))',\n",
      "        'val = [True, True, True]\\n'\n",
      "        'print(all(val))\\n'\n",
      "        '\\n'\n",
      "        'val = \"dafa\"\\n'\n",
      "        'print(all(val))\\n'\n",
      "        '\\n'\n",
      "        'val = [10, 20, 0]\\n'\n",
      "        'print(all(val))',\n",
      "        'val = [True, True, True]\\n'\n",
      "        'print(all(val))\\n'\n",
      "        '\\n'\n",
      "        'val = \"data\"\\n'\n",
      "        'print(all(val))',\n",
      "        'val = [10, 20, \"\"]\\n'\n",
      "        'print(all(val))\\n'\n",
      "        '\\n'\n",
      "        'val = [10, 20, False]\\n'\n",
      "        'print(all(val))\\n'\n",
      "        '\\n'\n",
      "        'val = [10, 20, None]\\n'\n",
      "        'print(all(val))',\n",
      "        'val = [True, True, True]\\n'\n",
      "        'print(all(val))\\n'\n",
      "        '\\n'\n",
      "        'val = \"data\"\\n'\n",
      "        'print(all(val))',\n",
      "        'val = [10, 20, \"\"]\\n'\n",
      "        'print(all(val))\\n'\n",
      "        '\\n'\n",
      "        'val = [10, 20, False]\\n'\n",
      "        'print(all(val))\\n'\n",
      "        '\\n'\n",
      "        'val = [10, 20, None]\\n'\n",
      "        'print(all(val))',\n",
      "        'val = [10, 20, \"\"]\\n'\n",
      "        'print(any(val))\\n'\n",
      "        '\\n'\n",
      "        'val = [10, 20, False]\\n'\n",
      "        'print(any(val))\\n'\n",
      "        '\\n'\n",
      "        'val = [10, 20, None]\\n'\n",
      "        'print(any(val))',\n",
      "        'val = [True, True, True]\\n'\n",
      "        'print(any(val))\\n'\n",
      "        '\\n'\n",
      "        'val = \"data\"\\n'\n",
      "        'print(any(val))',\n",
      "        'val = [\"\", None, False]\\nprint(any(val))',\n",
      "        'val = [10, 20, 30, \"\", None, False, True]\\n'\n",
      "        'for i, v in enumerate(val):\\n'\n",
      "        '    print(i, v)',\n",
      "        'nums = list(range(10))\\n'\n",
      "        'result = filter(lambda n: n%2==0, nums)\\n'\n",
      "        'print(result)\\n'\n",
      "        'print(list(result))',\n",
      "        'lst = list(\"abcdef\")\\n'\n",
      "        'result = list(map(lambda x: x.upper(), lst))\\n'\n",
      "        '\\n'\n",
      "        'print(result)',\n",
      "        'lst = list(\"abcdef123\")\\n'\n",
      "        'result = list(map(lambda x: x.upper(), lst))\\n'\n",
      "        '\\n'\n",
      "        'print(result)',\n",
      "        'lst = list(\"10, 25, 30, 45, 50\")\\nprint(lst)',\n",
      "        'lst = list(\"10, 25, 30, 45, 50\")\\n'\n",
      "        'print(lst)\\n'\n",
      "        'print(max(lst))\\n'\n",
      "        'print(min(lst))',\n",
      "        'lst = [10, 20, 30, 40]\\nprint(max(lst))\\nprint(min(lst))',\n",
      "        'lst = list(\"fknhsdfkjh\")\\nprint(max(lst))\\nprint(min(lst))',\n",
      "        'lst = list(\"fknhSdfkjh\")\\nprint(max(lst))\\nprint(min(lst))',\n",
      "        'range(\"a\", \"z\")',\n",
      "        'lst1 = list(range(0, 10, 1))\\nlst2 = list(range(10, 0))',\n",
      "        'lst1 = list(range(0, 10, 1))\\n'\n",
      "        'lst2 = list(range(10, 0))\\n'\n",
      "        'print(lst1)\\n'\n",
      "        'print(lst2)',\n",
      "        'lst1 = list(range(0, 10, 1))\\n'\n",
      "        'lst2 = list(range(10, 0, -1))\\n'\n",
      "        'print(lst1)\\n'\n",
      "        'print(lst2)',\n",
      "        'lst = [3, 6, 12, 2, 4, 11]\\n'\n",
      "        'print(sorted(lst))\\n'\n",
      "        '\\n'\n",
      "        'lst = \"dhfkjsf\"\\n'\n",
      "        'print(sorted(lst))',\n",
      "        'lst = [3, 6, 12, 2, 4, 11]\\n'\n",
      "        'print(sorted(lst))\\n'\n",
      "        'print(reversed(lst))\\n'\n",
      "        '\\n'\n",
      "        'lst = \"dhfkjsf\"\\n'\n",
      "        'print(sorted(lst))\\n'\n",
      "        'print(reversed(lst))',\n",
      "        'lst = [3, 6, 12, 2, 4, 11]\\n'\n",
      "        'print(list(reversed(lst)))\\n'\n",
      "        '\\n'\n",
      "        'lst = \"dhfkjsf\"\\n'\n",
      "        'print(list(reversed(lst)))',\n",
      "        'lst1 = [1, 3, 4, 5, 6]\\n'\n",
      "        'lst2 = [3, 2, 1]\\n'\n",
      "        '\\n'\n",
      "        'for l1, l2 in zip(lst1, lst2):\\n'\n",
      "        '    print(l1, l2)',\n",
      "        'chr(0)',\n",
      "        'chr(1)',\n",
      "        'chr(65)',\n",
      "        'for i in range(65, 89):\\n    print(chr(i))',\n",
      "        'for i in range(65, 70):\\n    print(chr(i))',\n",
      "        'print(chr(0xac00))\\nfor i in range(65, 70):\\n    print(chr(i))',\n",
      "        'print(ord(\"가\"))',\n",
      "        'print(ord(\"가\"))\\nfor c in [\"a\", \"b\", \"c\", \"d\"]:\\n    print(ord(c))',\n",
      "        'print(dir())',\n",
      "        'print(dir(\"hello, world\"))',\n",
      "        'print(dir([1, 2, 3]))',\n",
      "        'class MyClass:\\n'\n",
      "        '    pass\\n'\n",
      "        '\\n'\n",
      "        'def test_fn(param):\\n'\n",
      "        '    def inner_fn():\\n'\n",
      "        '        pass\\n'\n",
      "        '    val1 = 5\\n'\n",
      "        '    val2 = 8\\n'\n",
      "        '    for item in locals.items():\\n'\n",
      "        '        print(\"\\\\t{} : {}\".format(item[0], item[1]))',\n",
      "        'v1, v2 = 10, 20\\n'\n",
      "        'obj1 = MyClass()\\n'\n",
      "        'g = dict(globals())\\n'\n",
      "        '\\n'\n",
      "        'from pprint import pprint\\n'\n",
      "        'pprint(g)'],\n",
      " 'MyClass': <class '__main__.MyClass'>,\n",
      " 'Out': {30: '\\x00', 31: '\\x01', 32: 'A'},\n",
      " '_': 'A',\n",
      " '_30': '\\x00',\n",
      " '_31': '\\x01',\n",
      " '_32': 'A',\n",
      " '__': '\\x01',\n",
      " '___': '\\x00',\n",
      " '__builtin__': <module 'builtins' (built-in)>,\n",
      " '__builtins__': <module 'builtins' (built-in)>,\n",
      " '__doc__': 'Automatically created module for IPython interactive environment',\n",
      " '__loader__': None,\n",
      " '__name__': '__main__',\n",
      " '__package__': None,\n",
      " '__spec__': None,\n",
      " '_dh': ['C:\\\\Users\\\\gus8c\\\\PycharmProjects\\\\pythonProject\\\\Python-Cheat_Sheet\\\\basic'],\n",
      " '_i': 'class MyClass:\\n'\n",
      "       '    pass\\n'\n",
      "       '\\n'\n",
      "       'def test_fn(param):\\n'\n",
      "       '    def inner_fn():\\n'\n",
      "       '        pass\\n'\n",
      "       '    val1 = 5\\n'\n",
      "       '    val2 = 8\\n'\n",
      "       '    for item in locals.items():\\n'\n",
      "       '        print(\"\\\\t{} : {}\".format(item[0], item[1]))',\n",
      " '_i1': 'val1, val2 = 9, 5\\nresult = divmod(val1, val2)\\nprint(result)',\n",
      " '_i10': 'val = [10, 20, \"\"]\\n'\n",
      "         'print(any(val))\\n'\n",
      "         '\\n'\n",
      "         'val = [10, 20, False]\\n'\n",
      "         'print(any(val))\\n'\n",
      "         '\\n'\n",
      "         'val = [10, 20, None]\\n'\n",
      "         'print(any(val))',\n",
      " '_i11': 'val = [True, True, True]\\n'\n",
      "         'print(any(val))\\n'\n",
      "         '\\n'\n",
      "         'val = \"data\"\\n'\n",
      "         'print(any(val))',\n",
      " '_i12': 'val = [\"\", None, False]\\nprint(any(val))',\n",
      " '_i13': 'val = [10, 20, 30, \"\", None, False, True]\\n'\n",
      "         'for i, v in enumerate(val):\\n'\n",
      "         '    print(i, v)',\n",
      " '_i14': 'nums = list(range(10))\\n'\n",
      "         'result = filter(lambda n: n%2==0, nums)\\n'\n",
      "         'print(result)\\n'\n",
      "         'print(list(result))',\n",
      " '_i15': 'lst = list(\"abcdef\")\\n'\n",
      "         'result = list(map(lambda x: x.upper(), lst))\\n'\n",
      "         '\\n'\n",
      "         'print(result)',\n",
      " '_i16': 'lst = list(\"abcdef123\")\\n'\n",
      "         'result = list(map(lambda x: x.upper(), lst))\\n'\n",
      "         '\\n'\n",
      "         'print(result)',\n",
      " '_i17': 'lst = list(\"10, 25, 30, 45, 50\")\\nprint(lst)',\n",
      " '_i18': 'lst = list(\"10, 25, 30, 45, 50\")\\n'\n",
      "         'print(lst)\\n'\n",
      "         'print(max(lst))\\n'\n",
      "         'print(min(lst))',\n",
      " '_i19': 'lst = [10, 20, 30, 40]\\nprint(max(lst))\\nprint(min(lst))',\n",
      " '_i2': 'lst = [1, 2, 3, 4, 5]\\nprint(\"{}\".format(list(map(pow, lst))))',\n",
      " '_i20': 'lst = list(\"fknhsdfkjh\")\\nprint(max(lst))\\nprint(min(lst))',\n",
      " '_i21': 'lst = list(\"fknhSdfkjh\")\\nprint(max(lst))\\nprint(min(lst))',\n",
      " '_i22': 'range(\"a\", \"z\")',\n",
      " '_i23': 'lst1 = list(range(0, 10, 1))\\nlst2 = list(range(10, 0))',\n",
      " '_i24': 'lst1 = list(range(0, 10, 1))\\n'\n",
      "         'lst2 = list(range(10, 0))\\n'\n",
      "         'print(lst1)\\n'\n",
      "         'print(lst2)',\n",
      " '_i25': 'lst1 = list(range(0, 10, 1))\\n'\n",
      "         'lst2 = list(range(10, 0, -1))\\n'\n",
      "         'print(lst1)\\n'\n",
      "         'print(lst2)',\n",
      " '_i26': 'lst = [3, 6, 12, 2, 4, 11]\\n'\n",
      "         'print(sorted(lst))\\n'\n",
      "         '\\n'\n",
      "         'lst = \"dhfkjsf\"\\n'\n",
      "         'print(sorted(lst))',\n",
      " '_i27': 'lst = [3, 6, 12, 2, 4, 11]\\n'\n",
      "         'print(sorted(lst))\\n'\n",
      "         'print(reversed(lst))\\n'\n",
      "         '\\n'\n",
      "         'lst = \"dhfkjsf\"\\n'\n",
      "         'print(sorted(lst))\\n'\n",
      "         'print(reversed(lst))',\n",
      " '_i28': 'lst = [3, 6, 12, 2, 4, 11]\\n'\n",
      "         'print(list(reversed(lst)))\\n'\n",
      "         '\\n'\n",
      "         'lst = \"dhfkjsf\"\\n'\n",
      "         'print(list(reversed(lst)))',\n",
      " '_i29': 'lst1 = [1, 3, 4, 5, 6]\\n'\n",
      "         'lst2 = [3, 2, 1]\\n'\n",
      "         '\\n'\n",
      "         'for l1, l2 in zip(lst1, lst2):\\n'\n",
      "         '    print(l1, l2)',\n",
      " '_i3': 'lst = [1, 2, 3, 4, 5]\\n'\n",
      "        'print(\"{}\".format(list(map(lambda x: pow(x, 2), lst))))',\n",
      " '_i30': 'chr(0)',\n",
      " '_i31': 'chr(1)',\n",
      " '_i32': 'chr(65)',\n",
      " '_i33': 'for i in range(65, 89):\\n    print(chr(i))',\n",
      " '_i34': 'for i in range(65, 70):\\n    print(chr(i))',\n",
      " '_i35': 'print(chr(0xac00))\\nfor i in range(65, 70):\\n    print(chr(i))',\n",
      " '_i36': 'print(ord(\"가\"))',\n",
      " '_i37': 'print(ord(\"가\"))\\nfor c in [\"a\", \"b\", \"c\", \"d\"]:\\n    print(ord(c))',\n",
      " '_i38': 'print(dir())',\n",
      " '_i39': 'print(dir(\"hello, world\"))',\n",
      " '_i4': 'val = [True, True, True]\\n'\n",
      "        'print(all(val))\\n'\n",
      "        '\\n'\n",
      "        'val = \"dafa\"\\n'\n",
      "        'print(all(val))\\n'\n",
      "        '\\n'\n",
      "        'val = \" dfd\"\\n'\n",
      "        'print(all(val))',\n",
      " '_i40': 'print(dir([1, 2, 3]))',\n",
      " '_i41': 'class MyClass:\\n'\n",
      "         '    pass\\n'\n",
      "         '\\n'\n",
      "         'def test_fn(param):\\n'\n",
      "         '    def inner_fn():\\n'\n",
      "         '        pass\\n'\n",
      "         '    val1 = 5\\n'\n",
      "         '    val2 = 8\\n'\n",
      "         '    for item in locals.items():\\n'\n",
      "         '        print(\"\\\\t{} : {}\".format(item[0], item[1]))',\n",
      " '_i42': 'v1, v2 = 10, 20\\n'\n",
      "         'obj1 = MyClass()\\n'\n",
      "         'g = dict(globals())\\n'\n",
      "         '\\n'\n",
      "         'from pprint import pprint\\n'\n",
      "         'pprint(g)',\n",
      " '_i5': 'val = [True, True, True]\\n'\n",
      "        'print(all(val))\\n'\n",
      "        '\\n'\n",
      "        'val = \"dafa\"\\n'\n",
      "        'print(all(val))\\n'\n",
      "        '\\n'\n",
      "        'val = [10, 20, 0]\\n'\n",
      "        'print(all(val))',\n",
      " '_i6': 'val = [True, True, True]\\n'\n",
      "        'print(all(val))\\n'\n",
      "        '\\n'\n",
      "        'val = \"data\"\\n'\n",
      "        'print(all(val))',\n",
      " '_i7': 'val = [10, 20, \"\"]\\n'\n",
      "        'print(all(val))\\n'\n",
      "        '\\n'\n",
      "        'val = [10, 20, False]\\n'\n",
      "        'print(all(val))\\n'\n",
      "        '\\n'\n",
      "        'val = [10, 20, None]\\n'\n",
      "        'print(all(val))',\n",
      " '_i8': 'val = [True, True, True]\\n'\n",
      "        'print(all(val))\\n'\n",
      "        '\\n'\n",
      "        'val = \"data\"\\n'\n",
      "        'print(all(val))',\n",
      " '_i9': 'val = [10, 20, \"\"]\\n'\n",
      "        'print(all(val))\\n'\n",
      "        '\\n'\n",
      "        'val = [10, 20, False]\\n'\n",
      "        'print(all(val))\\n'\n",
      "        '\\n'\n",
      "        'val = [10, 20, None]\\n'\n",
      "        'print(all(val))',\n",
      " '_ih': ['',\n",
      "         'val1, val2 = 9, 5\\nresult = divmod(val1, val2)\\nprint(result)',\n",
      "         'lst = [1, 2, 3, 4, 5]\\nprint(\"{}\".format(list(map(pow, lst))))',\n",
      "         'lst = [1, 2, 3, 4, 5]\\n'\n",
      "         'print(\"{}\".format(list(map(lambda x: pow(x, 2), lst))))',\n",
      "         'val = [True, True, True]\\n'\n",
      "         'print(all(val))\\n'\n",
      "         '\\n'\n",
      "         'val = \"dafa\"\\n'\n",
      "         'print(all(val))\\n'\n",
      "         '\\n'\n",
      "         'val = \" dfd\"\\n'\n",
      "         'print(all(val))',\n",
      "         'val = [True, True, True]\\n'\n",
      "         'print(all(val))\\n'\n",
      "         '\\n'\n",
      "         'val = \"dafa\"\\n'\n",
      "         'print(all(val))\\n'\n",
      "         '\\n'\n",
      "         'val = [10, 20, 0]\\n'\n",
      "         'print(all(val))',\n",
      "         'val = [True, True, True]\\n'\n",
      "         'print(all(val))\\n'\n",
      "         '\\n'\n",
      "         'val = \"data\"\\n'\n",
      "         'print(all(val))',\n",
      "         'val = [10, 20, \"\"]\\n'\n",
      "         'print(all(val))\\n'\n",
      "         '\\n'\n",
      "         'val = [10, 20, False]\\n'\n",
      "         'print(all(val))\\n'\n",
      "         '\\n'\n",
      "         'val = [10, 20, None]\\n'\n",
      "         'print(all(val))',\n",
      "         'val = [True, True, True]\\n'\n",
      "         'print(all(val))\\n'\n",
      "         '\\n'\n",
      "         'val = \"data\"\\n'\n",
      "         'print(all(val))',\n",
      "         'val = [10, 20, \"\"]\\n'\n",
      "         'print(all(val))\\n'\n",
      "         '\\n'\n",
      "         'val = [10, 20, False]\\n'\n",
      "         'print(all(val))\\n'\n",
      "         '\\n'\n",
      "         'val = [10, 20, None]\\n'\n",
      "         'print(all(val))',\n",
      "         'val = [10, 20, \"\"]\\n'\n",
      "         'print(any(val))\\n'\n",
      "         '\\n'\n",
      "         'val = [10, 20, False]\\n'\n",
      "         'print(any(val))\\n'\n",
      "         '\\n'\n",
      "         'val = [10, 20, None]\\n'\n",
      "         'print(any(val))',\n",
      "         'val = [True, True, True]\\n'\n",
      "         'print(any(val))\\n'\n",
      "         '\\n'\n",
      "         'val = \"data\"\\n'\n",
      "         'print(any(val))',\n",
      "         'val = [\"\", None, False]\\nprint(any(val))',\n",
      "         'val = [10, 20, 30, \"\", None, False, True]\\n'\n",
      "         'for i, v in enumerate(val):\\n'\n",
      "         '    print(i, v)',\n",
      "         'nums = list(range(10))\\n'\n",
      "         'result = filter(lambda n: n%2==0, nums)\\n'\n",
      "         'print(result)\\n'\n",
      "         'print(list(result))',\n",
      "         'lst = list(\"abcdef\")\\n'\n",
      "         'result = list(map(lambda x: x.upper(), lst))\\n'\n",
      "         '\\n'\n",
      "         'print(result)',\n",
      "         'lst = list(\"abcdef123\")\\n'\n",
      "         'result = list(map(lambda x: x.upper(), lst))\\n'\n",
      "         '\\n'\n",
      "         'print(result)',\n",
      "         'lst = list(\"10, 25, 30, 45, 50\")\\nprint(lst)',\n",
      "         'lst = list(\"10, 25, 30, 45, 50\")\\n'\n",
      "         'print(lst)\\n'\n",
      "         'print(max(lst))\\n'\n",
      "         'print(min(lst))',\n",
      "         'lst = [10, 20, 30, 40]\\nprint(max(lst))\\nprint(min(lst))',\n",
      "         'lst = list(\"fknhsdfkjh\")\\nprint(max(lst))\\nprint(min(lst))',\n",
      "         'lst = list(\"fknhSdfkjh\")\\nprint(max(lst))\\nprint(min(lst))',\n",
      "         'range(\"a\", \"z\")',\n",
      "         'lst1 = list(range(0, 10, 1))\\nlst2 = list(range(10, 0))',\n",
      "         'lst1 = list(range(0, 10, 1))\\n'\n",
      "         'lst2 = list(range(10, 0))\\n'\n",
      "         'print(lst1)\\n'\n",
      "         'print(lst2)',\n",
      "         'lst1 = list(range(0, 10, 1))\\n'\n",
      "         'lst2 = list(range(10, 0, -1))\\n'\n",
      "         'print(lst1)\\n'\n",
      "         'print(lst2)',\n",
      "         'lst = [3, 6, 12, 2, 4, 11]\\n'\n",
      "         'print(sorted(lst))\\n'\n",
      "         '\\n'\n",
      "         'lst = \"dhfkjsf\"\\n'\n",
      "         'print(sorted(lst))',\n",
      "         'lst = [3, 6, 12, 2, 4, 11]\\n'\n",
      "         'print(sorted(lst))\\n'\n",
      "         'print(reversed(lst))\\n'\n",
      "         '\\n'\n",
      "         'lst = \"dhfkjsf\"\\n'\n",
      "         'print(sorted(lst))\\n'\n",
      "         'print(reversed(lst))',\n",
      "         'lst = [3, 6, 12, 2, 4, 11]\\n'\n",
      "         'print(list(reversed(lst)))\\n'\n",
      "         '\\n'\n",
      "         'lst = \"dhfkjsf\"\\n'\n",
      "         'print(list(reversed(lst)))',\n",
      "         'lst1 = [1, 3, 4, 5, 6]\\n'\n",
      "         'lst2 = [3, 2, 1]\\n'\n",
      "         '\\n'\n",
      "         'for l1, l2 in zip(lst1, lst2):\\n'\n",
      "         '    print(l1, l2)',\n",
      "         'chr(0)',\n",
      "         'chr(1)',\n",
      "         'chr(65)',\n",
      "         'for i in range(65, 89):\\n    print(chr(i))',\n",
      "         'for i in range(65, 70):\\n    print(chr(i))',\n",
      "         'print(chr(0xac00))\\nfor i in range(65, 70):\\n    print(chr(i))',\n",
      "         'print(ord(\"가\"))',\n",
      "         'print(ord(\"가\"))\\nfor c in [\"a\", \"b\", \"c\", \"d\"]:\\n    print(ord(c))',\n",
      "         'print(dir())',\n",
      "         'print(dir(\"hello, world\"))',\n",
      "         'print(dir([1, 2, 3]))',\n",
      "         'class MyClass:\\n'\n",
      "         '    pass\\n'\n",
      "         '\\n'\n",
      "         'def test_fn(param):\\n'\n",
      "         '    def inner_fn():\\n'\n",
      "         '        pass\\n'\n",
      "         '    val1 = 5\\n'\n",
      "         '    val2 = 8\\n'\n",
      "         '    for item in locals.items():\\n'\n",
      "         '        print(\"\\\\t{} : {}\".format(item[0], item[1]))',\n",
      "         'v1, v2 = 10, 20\\n'\n",
      "         'obj1 = MyClass()\\n'\n",
      "         'g = dict(globals())\\n'\n",
      "         '\\n'\n",
      "         'from pprint import pprint\\n'\n",
      "         'pprint(g)'],\n",
      " '_ii': 'print(dir([1, 2, 3]))',\n",
      " '_iii': 'print(dir(\"hello, world\"))',\n",
      " '_oh': {30: '\\x00', 31: '\\x01', 32: 'A'},\n",
      " 'c': 'd',\n",
      " 'exit': <IPython.core.autocall.ZMQExitAutocall object at 0x0000026317AE77C0>,\n",
      " 'get_ipython': <bound method InteractiveShell.get_ipython of <ipykernel.zmqshell.ZMQInteractiveShell object at 0x0000026317271040>>,\n",
      " 'i': 69,\n",
      " 'l1': 4,\n",
      " 'l2': 1,\n",
      " 'lst': 'dhfkjsf',\n",
      " 'lst1': [1, 3, 4, 5, 6],\n",
      " 'lst2': [3, 2, 1],\n",
      " 'nums': [0, 1, 2, 3, 4, 5, 6, 7, 8, 9],\n",
      " 'obj1': <__main__.MyClass object at 0x0000026317B3CC10>,\n",
      " 'quit': <IPython.core.autocall.ZMQExitAutocall object at 0x0000026317AE77C0>,\n",
      " 'result': ['A', 'B', 'C', 'D', 'E', 'F', '1', '2', '3'],\n",
      " 'test_fn': <function test_fn at 0x00000263187A7670>,\n",
      " 'v': True,\n",
      " 'v1': 10,\n",
      " 'v2': 20,\n",
      " 'val': [10, 20, 30, '', None, False, True],\n",
      " 'val1': 9,\n",
      " 'val2': 5}\n"
     ]
    }
   ],
   "source": [
    "v1, v2 = 10, 20\n",
    "obj1 = MyClass()\n",
    "g = dict(globals())\n",
    "\n",
    "from pprint import pprint\n",
    "pprint(g)"
   ]
  },
  {
   "cell_type": "code",
   "execution_count": 45,
   "metadata": {},
   "outputs": [
    {
     "name": "stdout",
     "output_type": "stream",
     "text": [
      "\tparam : 10\n",
      "\tinner_fn : <function test_fn.<locals>.inner_fn at 0x0000026317B3AF70>\n",
      "\tval1 : 5\n",
      "\tval2 : 8\n"
     ]
    }
   ],
   "source": [
    "test_fn(10)"
   ]
  },
  {
   "cell_type": "markdown",
   "metadata": {},
   "source": [
    "## 4.4 id()\n",
    "- 인자로 전달된 객체의 **고유 주소(참조값)**를 반환"
   ]
  },
  {
   "cell_type": "code",
   "execution_count": 47,
   "metadata": {},
   "outputs": [
    {
     "name": "stdout",
     "output_type": "stream",
     "text": [
      "140719323031616 140719323031616 True\n"
     ]
    }
   ],
   "source": [
    "x = 10\n",
    "y = 10\n",
    "print(id(x), id(y), id(x)==id(y))"
   ]
  },
  {
   "cell_type": "code",
   "execution_count": 48,
   "metadata": {},
   "outputs": [
    {
     "name": "stdout",
     "output_type": "stream",
     "text": [
      "2624566444208\n"
     ]
    }
   ],
   "source": [
    "z = \"10\"\n",
    "print(id(z))"
   ]
  },
  {
   "cell_type": "markdown",
   "metadata": {},
   "source": [
    "## 4.5 isinstance()\n",
    "- 첫 번째 인자로 전달된 객체가\n",
    "- 두 번째 인자로 전달된 클래스의 \n",
    "- **인스턴스인지에 대한 여부를 True/False 로 반환**"
   ]
  },
  {
   "cell_type": "markdown",
   "metadata": {},
   "source": [
    "## 4.6 issubclass()\n",
    "- 첫 번째 인자로 전달된 클래스가\n",
    "- 두 번째 인자로 전달된 클래스의\n",
    "- **서브클래스인지에 대한 여부를 True/False로 반환**"
   ]
  },
  {
   "cell_type": "code",
   "execution_count": 55,
   "metadata": {},
   "outputs": [
    {
     "name": "stdout",
     "output_type": "stream",
     "text": [
      "True\n",
      "True\n",
      "True\n",
      "False\n",
      "True\n"
     ]
    }
   ],
   "source": [
    "class Parent():\n",
    "    pass\n",
    "\n",
    "class Child(Parent):\n",
    "    pass\n",
    "\n",
    "p = Parent()\n",
    "c = Child()\n",
    "print(isinstance(p, Parent))\n",
    "print(isinstance(c, Parent))\n",
    "print(isinstance(c, Child))\n",
    "print(isinstance(p, Child))\n",
    "\n",
    "print(issubclass(Child, Parent))"
   ]
  },
  {
   "cell_type": "markdown",
   "metadata": {},
   "source": [
    "---\n",
    "# 5. 실행 관련 함수"
   ]
  },
  {
   "cell_type": "markdown",
   "metadata": {},
   "source": [
    "## 5.1 eval()\n",
    "- 실행 가능한 표현식의 문자열을 인자로 받음\n",
    "- **해당 문자열의 표현식을 실행한 결과값을 반환**\n"
   ]
  },
  {
   "cell_type": "code",
   "execution_count": 56,
   "metadata": {},
   "outputs": [
    {
     "name": "stdout",
     "output_type": "stream",
     "text": [
      "4\n"
     ]
    }
   ],
   "source": [
    "a = \"1 + 3\"\n",
    "print(eval(a))"
   ]
  },
  {
   "cell_type": "code",
   "execution_count": 58,
   "metadata": {},
   "outputs": [
    {
     "name": "stdout",
     "output_type": "stream",
     "text": [
      "HELLO, PYTHON!\n"
     ]
    }
   ],
   "source": [
    "a = \"'hello, python!'.upper()\"\n",
    "print(eval(a))"
   ]
  },
  {
   "cell_type": "code",
   "execution_count": null,
   "metadata": {},
   "outputs": [],
   "source": []
  }
 ],
 "metadata": {
  "kernelspec": {
   "display_name": "Python 3",
   "language": "python",
   "name": "python3"
  },
  "language_info": {
   "codemirror_mode": {
    "name": "ipython",
    "version": 3
   },
   "file_extension": ".py",
   "mimetype": "text/x-python",
   "name": "python",
   "nbconvert_exporter": "python",
   "pygments_lexer": "ipython3",
   "version": "3.8.5"
  }
 },
 "nbformat": 4,
 "nbformat_minor": 4
}
